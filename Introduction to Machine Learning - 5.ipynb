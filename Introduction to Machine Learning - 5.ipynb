{
 "cells": [
  {
   "cell_type": "markdown",
   "metadata": {},
   "source": [
    "# Linear Regression"
   ]
  },
  {
   "cell_type": "markdown",
   "metadata": {},
   "source": [
    "$$ \\hat{y} = \\hat{\\theta}_{0} + \\hat{\\theta}_{1}x_{1} + ... + \\hat{\\theta}_{n}x_{n}$$\n",
    "\n",
    "Or the vectorized form:\n",
    "\n",
    "$$ \\hat{y} = h_{\\theta}(x) = \\theta^{T}x$$\n",
    "\n",
    "where:\n",
    "\n",
    "$\\theta$ is the parameter vector.\n",
    "\n",
    "$x$ is the instance's feature vector.\n",
    "\n",
    "$h_{\\theta}$ is the hypothesis function.\n"
   ]
  },
  {
   "cell_type": "markdown",
   "metadata": {},
   "source": [
    "We want to select (fit) the parameters $\\theta$ so that the model best fits the training set."
   ]
  },
  {
   "cell_type": "markdown",
   "metadata": {},
   "source": [
    "## Least Squares Regression"
   ]
  },
  {
   "cell_type": "markdown",
   "metadata": {},
   "source": [
    "The most common performance measure of a regression model is the Root Mean Square Error (RMSE). Therefore, to train a Linear Regression model, you need to find the value of $\\theta$ that minimizes the RMSE. In practice, it is simpler to minimize the Mean Square Error (MSE) than the RMSE, and it leads to the same result (because the value that minimizes a function also minimizes its square root).\n",
    "\n",
    "$$RMSE = \\sqrt{\\frac{1}{m}\\sum_{i=1}^{m}(h_{\\theta}(x^{(i)})- y^{(i)})^{2}}$$\n",
    "\n",
    "$$MSE = \\frac{1}{m}\\sum_{i=1}^{m}(h_{\\theta}(x^{(i)})- y^{(i)})^{2}$$\n",
    "\n",
    "For the linear regression model:\n",
    "\n",
    "$$J(\\theta) = MSE = \\frac{1}{m}\\sum_{i=1}^{m}(\\theta^{T}x^{(i)}- y^{(i)})^{2}$$"
   ]
  },
  {
   "cell_type": "markdown",
   "metadata": {},
   "source": [
    "### The Normal Equation\n",
    "\n",
    "$$\\hat{\\theta} = (X^{T}X)^{-1}X^{T}y$$"
   ]
  },
  {
   "cell_type": "code",
   "execution_count": 29,
   "metadata": {},
   "outputs": [
    {
     "data": {
      "image/png": "[encoded data removed]",
      "text/plain": [
       "<Figure size 1152x648 with 1 Axes>"
      ]
     },
     "metadata": {},
     "output_type": "display_data"
    }
   ],
   "source": [
    "import numpy as np\n",
    "import pandas as pd\n",
    "import matplotlib.pyplot as plt\n",
    "import seaborn as sns; sns.set()\n",
    "\n",
    "X = np.random.randn(100, 1)\n",
    "y = 4 + 3 * X + np.random.randn(100, 1)\n",
    "\n",
    "plt.figure(figsize=(16, 9))\n",
    "plt.scatter(X, y);"
   ]
  },
  {
   "cell_type": "code",
   "execution_count": 30,
   "metadata": {},
   "outputs": [
    {
     "name": "stdout",
     "output_type": "stream",
     "text": [
      "Estimated Coefficients: \n",
      "[[4.02663167]\n",
      " [2.99826986]]\n"
     ]
    }
   ],
   "source": [
    "X_aug = np.concatenate((np.ones((100, 1)), X), axis=1)\n",
    "theta = np.linalg.inv(X_aug.T @ X_aug) @ X_aug.T @ y\n",
    "\n",
    "print(\"Estimated Coefficients: \\n{}\".format(theta))"
   ]
  },
  {
   "cell_type": "code",
   "execution_count": 31,
   "metadata": {},
   "outputs": [
    {
     "data": {
      "image/png": "[encoded data removed]",
      "text/plain": [
       "<Figure size 432x288 with 1 Axes>"
      ]
     },
     "metadata": {},
     "output_type": "display_data"
    }
   ],
   "source": [
    "y_pred = X_aug @ theta\n",
    "plt.scatter(X, y)\n",
    "plt.plot(X, y_pred);"
   ]
  },
  {
   "cell_type": "code",
   "execution_count": 4,
   "metadata": {},
   "outputs": [
    {
     "data": {
      "text/html": [
       "<table class=\"simpletable\">\n",
       "<caption>OLS Regression Results</caption>\n",
       "<tr>\n",
       "  <th>Dep. Variable:</th>            <td>y</td>        <th>  R-squared:         </th> <td>   0.939</td>\n",
       "</tr>\n",
       "<tr>\n",
       "  <th>Model:</th>                   <td>OLS</td>       <th>  Adj. R-squared:    </th> <td>   0.938</td>\n",
       "</tr>\n",
       "<tr>\n",
       "  <th>Method:</th>             <td>Least Squares</td>  <th>  F-statistic:       </th> <td>   1501.</td>\n",
       "</tr>\n",
       "<tr>\n",
       "  <th>Date:</th>             <td>Tue, 01 Oct 2019</td> <th>  Prob (F-statistic):</th> <td>3.15e-61</td>\n",
       "</tr>\n",
       "<tr>\n",
       "  <th>Time:</th>                 <td>21:55:09</td>     <th>  Log-Likelihood:    </th> <td> -121.59</td>\n",
       "</tr>\n",
       "<tr>\n",
       "  <th>No. Observations:</th>      <td>   100</td>      <th>  AIC:               </th> <td>   247.2</td>\n",
       "</tr>\n",
       "<tr>\n",
       "  <th>Df Residuals:</th>          <td>    98</td>      <th>  BIC:               </th> <td>   252.4</td>\n",
       "</tr>\n",
       "<tr>\n",
       "  <th>Df Model:</th>              <td>     1</td>      <th>                     </th>     <td> </td>   \n",
       "</tr>\n",
       "<tr>\n",
       "  <th>Covariance Type:</th>      <td>nonrobust</td>    <th>                     </th>     <td> </td>   \n",
       "</tr>\n",
       "</table>\n",
       "<table class=\"simpletable\">\n",
       "<tr>\n",
       "    <td></td>       <th>coef</th>     <th>std err</th>      <th>t</th>      <th>P>|t|</th>  <th>[0.025</th>    <th>0.975]</th>  \n",
       "</tr>\n",
       "<tr>\n",
       "  <th>const</th> <td>    4.0290</td> <td>    0.084</td> <td>   47.974</td> <td> 0.000</td> <td>    3.862</td> <td>    4.196</td>\n",
       "</tr>\n",
       "<tr>\n",
       "  <th>x1</th>    <td>    3.0842</td> <td>    0.080</td> <td>   38.744</td> <td> 0.000</td> <td>    2.926</td> <td>    3.242</td>\n",
       "</tr>\n",
       "</table>\n",
       "<table class=\"simpletable\">\n",
       "<tr>\n",
       "  <th>Omnibus:</th>       <td> 0.345</td> <th>  Durbin-Watson:     </th> <td>   2.038</td>\n",
       "</tr>\n",
       "<tr>\n",
       "  <th>Prob(Omnibus):</th> <td> 0.841</td> <th>  Jarque-Bera (JB):  </th> <td>   0.413</td>\n",
       "</tr>\n",
       "<tr>\n",
       "  <th>Skew:</th>          <td> 0.135</td> <th>  Prob(JB):          </th> <td>   0.813</td>\n",
       "</tr>\n",
       "<tr>\n",
       "  <th>Kurtosis:</th>      <td> 2.838</td> <th>  Cond. No.          </th> <td>    1.22</td>\n",
       "</tr>\n",
       "</table><br/><br/>Warnings:<br/>[1] Standard Errors assume that the covariance matrix of the errors is correctly specified."
      ],
      "text/plain": [
       "<class 'statsmodels.iolib.summary.Summary'>\n",
       "\"\"\"\n",
       "                            OLS Regression Results                            \n",
       "==============================================================================\n",
       "Dep. Variable:                      y   R-squared:                       0.939\n",
       "Model:                            OLS   Adj. R-squared:                  0.938\n",
       "Method:                 Least Squares   F-statistic:                     1501.\n",
       "Date:                Tue, 01 Oct 2019   Prob (F-statistic):           3.15e-61\n",
       "Time:                        21:55:09   Log-Likelihood:                -121.59\n",
       "No. Observations:                 100   AIC:                             247.2\n",
       "Df Residuals:                      98   BIC:                             252.4\n",
       "Df Model:                           1                                         \n",
       "Covariance Type:            nonrobust                                         \n",
       "==============================================================================\n",
       "                 coef    std err          t      P>|t|      [0.025      0.975]\n",
       "------------------------------------------------------------------------------\n",
       "const          4.0290      0.084     47.974      0.000       3.862       4.196\n",
       "x1             3.0842      0.080     38.744      0.000       2.926       3.242\n",
       "==============================================================================\n",
       "Omnibus:                        0.345   Durbin-Watson:                   2.038\n",
       "Prob(Omnibus):                  0.841   Jarque-Bera (JB):                0.413\n",
       "Skew:                           0.135   Prob(JB):                        0.813\n",
       "Kurtosis:                       2.838   Cond. No.                         1.22\n",
       "==============================================================================\n",
       "\n",
       "Warnings:\n",
       "[1] Standard Errors assume that the covariance matrix of the errors is correctly specified.\n",
       "\"\"\""
      ]
     },
     "execution_count": 4,
     "metadata": {},
     "output_type": "execute_result"
    }
   ],
   "source": [
    "import statsmodels.api as sm\n",
    "\n",
    "X_aug = sm.add_constant(X)\n",
    "model = sm.OLS(y, X_aug).fit()\n",
    "y_pred = model.predict(X_aug)\n",
    "model.summary()"
   ]
  },
  {
   "cell_type": "code",
   "execution_count": 5,
   "metadata": {},
   "outputs": [
    {
     "name": "stdout",
     "output_type": "stream",
     "text": [
      "[4.02903321]\n",
      "[[3.08420849]]\n"
     ]
    },
    {
     "data": {
      "image/png": "[encoded data removed]",
      "text/plain": [
       "<Figure size 432x288 with 1 Axes>"
      ]
     },
     "metadata": {
      "needs_background": "light"
     },
     "output_type": "display_data"
    }
   ],
   "source": [
    "from sklearn.linear_model import LinearRegression\n",
    "\n",
    "model = LinearRegression()\n",
    "model.fit(X, y)\n",
    "\n",
    "print(model.intercept_)\n",
    "print(model.coef_)\n",
    "\n",
    "y_pred = model.predict(X)\n",
    "\n",
    "plt.scatter(X, y)\n",
    "plt.plot(X, y_pred);"
   ]
  },
  {
   "cell_type": "markdown",
   "metadata": {},
   "source": [
    "### Gradient Descent Regression"
   ]
  },
  {
   "cell_type": "code",
   "execution_count": 10,
   "metadata": {},
   "outputs": [
    {
     "data": {
      "text/plain": [
       "<matplotlib.colorbar.Colorbar at 0x28b86029550>"
      ]
     },
     "execution_count": 10,
     "metadata": {},
     "output_type": "execute_result"
    },
    {
     "data": {
      "image/png": "[encoded data removed]",
      "text/plain": [
       "<Figure size 432x288 with 2 Axes>"
      ]
     },
     "metadata": {
      "needs_background": "light"
     },
     "output_type": "display_data"
    }
   ],
   "source": [
    "X = np.random.randn(100, 1)\n",
    "y = 4 + 3 * X + np.random.randn(100, 1)\n",
    "\n",
    "m, n = X.shape\n",
    "\n",
    "theta0 = np.linspace(0, 8, 1000)\n",
    "theta1 = np.linspace(0, 6, 1000)\n",
    "Theta0, Theta1 = np.meshgrid(theta0, theta1)\n",
    "\n",
    "J = (np.array([Theta0  + Theta1 * X[i, 0] - y[i] for i in range(m)]) ** 2).mean(axis=0)\n",
    "\n",
    "plt.contourf(Theta0, Theta1, J, 50, cmap='viridis')\n",
    "plt.colorbar()"
   ]
  },
  {
   "cell_type": "markdown",
   "metadata": {},
   "source": [
    "Gradient:\n",
    "\n",
    "$$\\nabla_{\\theta} MSE =\\frac{2}{m}X^{T}(X\\theta - y)$$\n",
    "\n",
    "Update Rule:\n",
    " \n",
    "$$\\theta^{\\ next \\ step}:= \\theta - \\alpha \\nabla_{\\theta} MSE$$"
   ]
  },
  {
   "cell_type": "code",
   "execution_count": 47,
   "metadata": {},
   "outputs": [
    {
     "name": "stdout",
     "output_type": "stream",
     "text": [
      "Final Parameters: \n",
      " [[3.92126044]\n",
      " [3.04284466]]\n"
     ]
    },
    {
     "data": {
      "image/png": "[encoded data removed]",
      "text/plain": [
       "<Figure size 432x288 with 1 Axes>"
      ]
     },
     "metadata": {},
     "output_type": "display_data"
    }
   ],
   "source": [
    "def linear_reg_gd(X, y, learning_rate=0.01, steps=100):\n",
    "    m, n = X.shape\n",
    "    \n",
    "    X_aug = np.concatenate((np.ones((m, 1)), X), axis=1)\n",
    "\n",
    "    theta = np.random.randn(2, 1)\n",
    "\n",
    "    fig, ax = plt.subplots()\n",
    "    ax.scatter(X, y)\n",
    "\n",
    "    for i in range(steps):\n",
    "        theta -= learning_rate * (2 / m) * X_aug.T @ (X_aug @ theta - y)\n",
    "        y_pred = X_aug @ theta\n",
    "\n",
    "        if i // (steps // 10) == 0:\n",
    "            ax.plot(X_aug[:, 1], y_pred, color='green', alpha=0.3)\n",
    "    print('Final Parameters: \\n {}'.format(theta))\n",
    "    \n",
    "X = np.random.randn(100, 1)\n",
    "y = 4 + 3 * X + np.random.randn(100, 1)\n",
    "\n",
    "linear_reg_gd(X, y, learning_rate=0.8, steps=50)"
   ]
  },
  {
   "cell_type": "code",
   "execution_count": 36,
   "metadata": {},
   "outputs": [
    {
     "name": "stderr",
     "output_type": "stream",
     "text": [
      "C:\\Users\\secan\\Anaconda3\\lib\\site-packages\\sklearn\\linear_model\\stochastic_gradient.py:183: FutureWarning: max_iter and tol parameters have been added in SGDRegressor in 0.19. If max_iter is set but tol is left unset, the default value for tol in 0.19 and 0.20 will be None (which is equivalent to -infinity, so it has no effect) but will change in 0.21 to 1e-3. Specify tol to silence this warning.\n",
      "  FutureWarning)\n",
      "C:\\Users\\secan\\Anaconda3\\lib\\site-packages\\sklearn\\utils\\validation.py:761: DataConversionWarning: A column-vector y was passed when a 1d array was expected. Please change the shape of y to (n_samples, ), for example using ravel().\n",
      "  y = column_or_1d(y, warn=True)\n"
     ]
    },
    {
     "data": {
      "image/png": "[encoded data removed]",
      "text/plain": [
       "<Figure size 432x288 with 1 Axes>"
      ]
     },
     "metadata": {},
     "output_type": "display_data"
    }
   ],
   "source": [
    "from sklearn.linear_model import SGDRegressor\n",
    "\n",
    "model = SGDRegressor(penalty=None, learning_rate='constant', eta0=0.01, max_iter=100, verbose=0)\n",
    "model.fit(X, y)\n",
    "y_pred = model.predict(X)\n",
    "\n",
    "plt.scatter(X, y)\n",
    "plt.plot(X, y_pred, color='green');"
   ]
  },
  {
   "cell_type": "markdown",
   "metadata": {},
   "source": [
    "## Ridge Regression"
   ]
  },
  {
   "cell_type": "markdown",
   "metadata": {},
   "source": [
    "Ridge Regression(also called Tikhonov regularization) is a regularized version of Linear Regression: a regularization term is added to the cost function. This forces the learning algorithm to not only fit the data but also keep the model weights as small as possible. Note that the regularization term should only be added to the cost function during training. Once the model is trained, you want to evaluate the model’s performance using the unregularized performance measure.\n",
    "\n",
    "$$min \\ J(\\theta) = \\frac{1}{m}\\sum_{i=1}^{m}(\\theta^{T}x^{(i)}- y^{(i)})^{2}$$\n",
    "\n",
    "$subject \\ to$\n",
    "\n",
    "$$\\sum_{j=1}^{n}\\theta_{j}^{2} \\leq t$$\n",
    "\n",
    "Cost Function:\n",
    "\n",
    "$$min \\ J(\\theta) = \\frac{1}{m}\\sum_{i=1}^{m}(\\theta^{T}x^{(i)}- y^{(i)})^{2} + \\alpha \\sum_{j=1}^{n}\\theta_{j}^{2}$$"
   ]
  },
  {
   "cell_type": "markdown",
   "metadata": {},
   "source": [
    "Closed Form\n",
    "\n",
    "$$\\theta = (X^{T} X + \\alpha A)^{-1} X^{T}y$$\n",
    "\n",
    "$A$: is the $(n \\ x \\ n)$ identity matrix with a $0$ in the top left corner."
   ]
  },
  {
   "cell_type": "code",
   "execution_count": 37,
   "metadata": {},
   "outputs": [
    {
     "name": "stdout",
     "output_type": "stream",
     "text": [
      "Final Parameters: \n",
      " [[3.93121759]\n",
      " [3.08807226]]\n"
     ]
    }
   ],
   "source": [
    "def ridge_reg(X, y, reg=1):\n",
    "    m, n = X.shape\n",
    "    \n",
    "    X_aug = np.concatenate((np.ones((m, 1)), X), axis=1)\n",
    "    \n",
    "    A = np.eye(n+1)\n",
    "    A[0, 0] = 0\n",
    "    \n",
    "    theta = np.linalg.inv(X_aug.T @ X_aug + reg * A) @ X_aug.T @ y\n",
    "    \n",
    "    y_pred = X_aug @ theta\n",
    "    \n",
    "    print('Final Parameters: \\n {}'.format(theta))\n",
    "    \n",
    "X = np.random.randn(100, 1)\n",
    "y = 4 + 3 * X + np.random.randn(100, 1)\n",
    "    \n",
    "ridge_reg(X, y, reg=0.01)"
   ]
  },
  {
   "cell_type": "code",
   "execution_count": 14,
   "metadata": {},
   "outputs": [
    {
     "name": "stdout",
     "output_type": "stream",
     "text": [
      "[3.89410286] [[3.10481908]]\n"
     ]
    }
   ],
   "source": [
    "from sklearn.linear_model import Ridge\n",
    "\n",
    "X = np.random.randn(100, 1)\n",
    "y = 4 + 3 * X + np.random.randn(100, 1)\n",
    "\n",
    "model = Ridge(alpha=0.01, )\n",
    "model.fit(X, y)\n",
    "print(model.intercept_, model.coef_)"
   ]
  },
  {
   "cell_type": "code",
   "execution_count": 15,
   "metadata": {},
   "outputs": [
    {
     "name": "stdout",
     "output_type": "stream",
     "text": [
      "-- Epoch 1\n",
      "Norm: 0.20, NNZs: 1, Bias: 0.369443, T: 100, Avg. loss: 10.532860\n",
      "Total training time: 0.00 seconds.\n",
      "-- Epoch 2\n",
      "Norm: 0.39, NNZs: 1, Bias: 0.703378, T: 200, Avg. loss: 8.907557\n",
      "Total training time: 0.00 seconds.\n",
      "-- Epoch 3\n",
      "Norm: 0.57, NNZs: 1, Bias: 1.005763, T: 300, Avg. loss: 7.554731\n",
      "Total training time: 0.00 seconds.\n",
      "-- Epoch 4\n",
      "Norm: 0.74, NNZs: 1, Bias: 1.278810, T: 400, Avg. loss: 6.428859\n",
      "Total training time: 0.00 seconds.\n",
      "-- Epoch 5\n",
      "Norm: 0.90, NNZs: 1, Bias: 1.525611, T: 500, Avg. loss: 5.491673\n",
      "Total training time: 0.00 seconds.\n",
      "-- Epoch 6\n",
      "Norm: 1.04, NNZs: 1, Bias: 1.749873, T: 600, Avg. loss: 4.709223\n",
      "Total training time: 0.00 seconds.\n",
      "-- Epoch 7\n",
      "Norm: 1.18, NNZs: 1, Bias: 1.952830, T: 700, Avg. loss: 4.055000\n",
      "Total training time: 0.00 seconds.\n",
      "-- Epoch 8\n",
      "Norm: 1.30, NNZs: 1, Bias: 2.136715, T: 800, Avg. loss: 3.508490\n",
      "Total training time: 0.02 seconds.\n",
      "-- Epoch 9\n",
      "Norm: 1.42, NNZs: 1, Bias: 2.302988, T: 900, Avg. loss: 3.051198\n",
      "Total training time: 0.02 seconds.\n",
      "-- Epoch 10\n",
      "Norm: 1.53, NNZs: 1, Bias: 2.453328, T: 1000, Avg. loss: 2.668694\n",
      "Total training time: 0.02 seconds.\n",
      "-- Epoch 11\n",
      "Norm: 1.64, NNZs: 1, Bias: 2.589134, T: 1100, Avg. loss: 2.348224\n",
      "Total training time: 0.02 seconds.\n",
      "-- Epoch 12\n",
      "Norm: 1.73, NNZs: 1, Bias: 2.712265, T: 1200, Avg. loss: 2.079612\n",
      "Total training time: 0.02 seconds.\n",
      "-- Epoch 13\n",
      "Norm: 1.82, NNZs: 1, Bias: 2.824068, T: 1300, Avg. loss: 1.853525\n",
      "Total training time: 0.02 seconds.\n",
      "-- Epoch 14\n",
      "Norm: 1.91, NNZs: 1, Bias: 2.925601, T: 1400, Avg. loss: 1.663297\n",
      "Total training time: 0.02 seconds.\n",
      "-- Epoch 15\n",
      "Norm: 1.99, NNZs: 1, Bias: 3.017569, T: 1500, Avg. loss: 1.503135\n",
      "Total training time: 0.02 seconds.\n",
      "-- Epoch 16\n",
      "Norm: 2.06, NNZs: 1, Bias: 3.100471, T: 1600, Avg. loss: 1.368594\n",
      "Total training time: 0.02 seconds.\n",
      "-- Epoch 17\n",
      "Norm: 2.13, NNZs: 1, Bias: 3.175902, T: 1700, Avg. loss: 1.255179\n",
      "Total training time: 0.02 seconds.\n",
      "-- Epoch 18\n",
      "Norm: 2.19, NNZs: 1, Bias: 3.242797, T: 1800, Avg. loss: 1.159788\n",
      "Total training time: 0.02 seconds.\n",
      "-- Epoch 19\n",
      "Norm: 2.25, NNZs: 1, Bias: 3.303620, T: 1900, Avg. loss: 1.079755\n",
      "Total training time: 0.02 seconds.\n",
      "-- Epoch 20\n",
      "Norm: 2.31, NNZs: 1, Bias: 3.358886, T: 2000, Avg. loss: 1.011871\n",
      "Total training time: 0.02 seconds.\n",
      "-- Epoch 21\n",
      "Norm: 2.36, NNZs: 1, Bias: 3.409397, T: 2100, Avg. loss: 0.954170\n",
      "Total training time: 0.02 seconds.\n",
      "-- Epoch 22\n",
      "Norm: 2.41, NNZs: 1, Bias: 3.455072, T: 2200, Avg. loss: 0.905225\n",
      "Total training time: 0.05 seconds.\n",
      "-- Epoch 23\n",
      "Norm: 2.46, NNZs: 1, Bias: 3.496697, T: 2300, Avg. loss: 0.863705\n",
      "Total training time: 0.05 seconds.\n",
      "-- Epoch 24\n",
      "Norm: 2.50, NNZs: 1, Bias: 3.533620, T: 2400, Avg. loss: 0.828564\n",
      "Total training time: 0.05 seconds.\n",
      "-- Epoch 25\n",
      "Norm: 2.54, NNZs: 1, Bias: 3.566911, T: 2500, Avg. loss: 0.798815\n",
      "Total training time: 0.06 seconds.\n",
      "-- Epoch 26\n",
      "Norm: 2.58, NNZs: 1, Bias: 3.597314, T: 2600, Avg. loss: 0.773478\n",
      "Total training time: 0.06 seconds.\n",
      "-- Epoch 27\n",
      "Norm: 2.61, NNZs: 1, Bias: 3.625331, T: 2700, Avg. loss: 0.751808\n",
      "Total training time: 0.06 seconds.\n",
      "-- Epoch 28\n",
      "Norm: 2.64, NNZs: 1, Bias: 3.650428, T: 2800, Avg. loss: 0.733311\n",
      "Total training time: 0.06 seconds.\n",
      "-- Epoch 29\n",
      "Norm: 2.68, NNZs: 1, Bias: 3.673628, T: 2900, Avg. loss: 0.717512\n",
      "Total training time: 0.06 seconds.\n",
      "-- Epoch 30\n",
      "Norm: 2.70, NNZs: 1, Bias: 3.694305, T: 3000, Avg. loss: 0.704016\n",
      "Total training time: 0.06 seconds.\n",
      "-- Epoch 31\n",
      "Norm: 2.73, NNZs: 1, Bias: 3.712806, T: 3100, Avg. loss: 0.692512\n",
      "Total training time: 0.06 seconds.\n",
      "-- Epoch 32\n",
      "Norm: 2.75, NNZs: 1, Bias: 3.729417, T: 3200, Avg. loss: 0.682753\n",
      "Total training time: 0.08 seconds.\n",
      "-- Epoch 33\n",
      "Norm: 2.78, NNZs: 1, Bias: 3.744967, T: 3300, Avg. loss: 0.674420\n",
      "Total training time: 0.08 seconds.\n",
      "-- Epoch 34\n",
      "Norm: 2.80, NNZs: 1, Bias: 3.758560, T: 3400, Avg. loss: 0.667265\n",
      "Total training time: 0.08 seconds.\n",
      "-- Epoch 35\n",
      "Norm: 2.82, NNZs: 1, Bias: 3.771546, T: 3500, Avg. loss: 0.661120\n",
      "Total training time: 0.08 seconds.\n",
      "-- Epoch 36\n",
      "Norm: 2.84, NNZs: 1, Bias: 3.782808, T: 3600, Avg. loss: 0.655868\n",
      "Total training time: 0.08 seconds.\n",
      "-- Epoch 37\n",
      "Norm: 2.86, NNZs: 1, Bias: 3.793203, T: 3700, Avg. loss: 0.651354\n",
      "Total training time: 0.08 seconds.\n",
      "-- Epoch 38\n",
      "Norm: 2.87, NNZs: 1, Bias: 3.802447, T: 3800, Avg. loss: 0.647446\n",
      "Total training time: 0.08 seconds.\n",
      "-- Epoch 39\n",
      "Norm: 2.89, NNZs: 1, Bias: 3.811117, T: 3900, Avg. loss: 0.644073\n",
      "Total training time: 0.08 seconds.\n",
      "-- Epoch 40\n",
      "Norm: 2.90, NNZs: 1, Bias: 3.819297, T: 4000, Avg. loss: 0.641147\n",
      "Total training time: 0.08 seconds.\n",
      "-- Epoch 41\n",
      "Norm: 2.92, NNZs: 1, Bias: 3.827180, T: 4100, Avg. loss: 0.638528\n",
      "Total training time: 0.08 seconds.\n",
      "-- Epoch 42\n",
      "Norm: 2.93, NNZs: 1, Bias: 3.834007, T: 4200, Avg. loss: 0.636370\n",
      "Total training time: 0.08 seconds.\n",
      "-- Epoch 43\n",
      "Norm: 2.94, NNZs: 1, Bias: 3.839851, T: 4300, Avg. loss: 0.634546\n",
      "Total training time: 0.08 seconds.\n",
      "-- Epoch 44\n",
      "Norm: 2.95, NNZs: 1, Bias: 3.844787, T: 4400, Avg. loss: 0.632999\n",
      "Total training time: 0.08 seconds.\n",
      "-- Epoch 45\n",
      "Norm: 2.96, NNZs: 1, Bias: 3.848819, T: 4500, Avg. loss: 0.631632\n",
      "Total training time: 0.08 seconds.\n",
      "-- Epoch 46\n",
      "Norm: 2.97, NNZs: 1, Bias: 3.852714, T: 4600, Avg. loss: 0.630483\n",
      "Total training time: 0.08 seconds.\n",
      "-- Epoch 47\n",
      "Norm: 2.98, NNZs: 1, Bias: 3.856437, T: 4700, Avg. loss: 0.629501\n",
      "Total training time: 0.08 seconds.\n",
      "-- Epoch 48\n",
      "Norm: 2.99, NNZs: 1, Bias: 3.859842, T: 4800, Avg. loss: 0.628648\n",
      "Total training time: 0.08 seconds.\n",
      "-- Epoch 49\n",
      "Norm: 2.99, NNZs: 1, Bias: 3.863653, T: 4900, Avg. loss: 0.627846\n",
      "Total training time: 0.08 seconds.\n",
      "-- Epoch 50\n",
      "Norm: 3.00, NNZs: 1, Bias: 3.867044, T: 5000, Avg. loss: 0.627175\n",
      "Total training time: 0.09 seconds.\n",
      "-- Epoch 51\n",
      "Norm: 3.01, NNZs: 1, Bias: 3.869614, T: 5100, Avg. loss: 0.626611\n",
      "Total training time: 0.09 seconds.\n",
      "-- Epoch 52\n",
      "Norm: 3.02, NNZs: 1, Bias: 3.871926, T: 5200, Avg. loss: 0.626120\n",
      "Total training time: 0.09 seconds.\n",
      "-- Epoch 53\n",
      "Norm: 3.02, NNZs: 1, Bias: 3.873719, T: 5300, Avg. loss: 0.625683\n",
      "Total training time: 0.09 seconds.\n",
      "-- Epoch 54\n",
      "Norm: 3.03, NNZs: 1, Bias: 3.875590, T: 5400, Avg. loss: 0.625313\n",
      "Total training time: 0.09 seconds.\n",
      "-- Epoch 55\n",
      "Norm: 3.03, NNZs: 1, Bias: 3.877613, T: 5500, Avg. loss: 0.624973\n",
      "Total training time: 0.09 seconds.\n",
      "-- Epoch 56\n",
      "Norm: 3.04, NNZs: 1, Bias: 3.878938, T: 5600, Avg. loss: 0.624720\n",
      "Total training time: 0.09 seconds.\n",
      "-- Epoch 57\n",
      "Norm: 3.04, NNZs: 1, Bias: 3.880235, T: 5700, Avg. loss: 0.624480\n",
      "Total training time: 0.09 seconds.\n",
      "-- Epoch 58\n",
      "Norm: 3.04, NNZs: 1, Bias: 3.881061, T: 5800, Avg. loss: 0.624254\n",
      "Total training time: 0.09 seconds.\n",
      "-- Epoch 59\n",
      "Norm: 3.05, NNZs: 1, Bias: 3.882123, T: 5900, Avg. loss: 0.624101\n",
      "Total training time: 0.09 seconds.\n",
      "-- Epoch 60\n",
      "Norm: 3.05, NNZs: 1, Bias: 3.882996, T: 6000, Avg. loss: 0.623929\n",
      "Total training time: 0.09 seconds.\n",
      "-- Epoch 61\n",
      "Norm: 3.06, NNZs: 1, Bias: 3.884161, T: 6100, Avg. loss: 0.623809\n",
      "Total training time: 0.09 seconds.\n",
      "-- Epoch 62\n",
      "Norm: 3.06, NNZs: 1, Bias: 3.884755, T: 6200, Avg. loss: 0.623679\n",
      "Total training time: 0.09 seconds.\n",
      "-- Epoch 63\n",
      "Norm: 3.06, NNZs: 1, Bias: 3.885384, T: 6300, Avg. loss: 0.623580\n",
      "Total training time: 0.09 seconds.\n",
      "-- Epoch 64\n",
      "Norm: 3.06, NNZs: 1, Bias: 3.885963, T: 6400, Avg. loss: 0.623490\n",
      "Total training time: 0.09 seconds.\n",
      "-- Epoch 65\n",
      "Norm: 3.07, NNZs: 1, Bias: 3.886485, T: 6500, Avg. loss: 0.623406\n",
      "Total training time: 0.09 seconds.\n",
      "-- Epoch 66\n",
      "Norm: 3.07, NNZs: 1, Bias: 3.886914, T: 6600, Avg. loss: 0.623339\n",
      "Total training time: 0.09 seconds.\n",
      "-- Epoch 67\n",
      "Norm: 3.07, NNZs: 1, Bias: 3.887813, T: 6700, Avg. loss: 0.623276\n",
      "Total training time: 0.09 seconds.\n",
      "-- Epoch 68\n",
      "Norm: 3.07, NNZs: 1, Bias: 3.888638, T: 6800, Avg. loss: 0.623210\n",
      "Total training time: 0.09 seconds.\n",
      "-- Epoch 69\n",
      "Norm: 3.08, NNZs: 1, Bias: 3.889178, T: 6900, Avg. loss: 0.623167\n",
      "Total training time: 0.09 seconds.\n",
      "-- Epoch 70\n",
      "Norm: 3.08, NNZs: 1, Bias: 3.889632, T: 7000, Avg. loss: 0.623127\n",
      "Total training time: 0.09 seconds.\n",
      "-- Epoch 71\n",
      "Norm: 3.08, NNZs: 1, Bias: 3.889842, T: 7100, Avg. loss: 0.623084\n",
      "Total training time: 0.09 seconds.\n",
      "-- Epoch 72\n",
      "Norm: 3.08, NNZs: 1, Bias: 3.889566, T: 7200, Avg. loss: 0.623030\n",
      "Total training time: 0.09 seconds.\n",
      "-- Epoch 73\n",
      "Norm: 3.08, NNZs: 1, Bias: 3.890410, T: 7300, Avg. loss: 0.623031\n",
      "Total training time: 0.09 seconds.\n",
      "-- Epoch 74\n",
      "Norm: 3.08, NNZs: 1, Bias: 3.890605, T: 7400, Avg. loss: 0.623018\n",
      "Total training time: 0.09 seconds.\n",
      "-- Epoch 75\n",
      "Norm: 3.09, NNZs: 1, Bias: 3.891212, T: 7500, Avg. loss: 0.622978\n",
      "Total training time: 0.09 seconds.\n",
      "-- Epoch 76\n",
      "Norm: 3.09, NNZs: 1, Bias: 3.891970, T: 7600, Avg. loss: 0.622961\n",
      "Total training time: 0.09 seconds.\n"
     ]
    },
    {
     "name": "stdout",
     "output_type": "stream",
     "text": [
      "-- Epoch 77\n",
      "Norm: 3.09, NNZs: 1, Bias: 3.892717, T: 7700, Avg. loss: 0.622942\n",
      "Total training time: 0.11 seconds.\n",
      "-- Epoch 78\n",
      "Norm: 3.09, NNZs: 1, Bias: 3.893190, T: 7800, Avg. loss: 0.622941\n",
      "Total training time: 0.11 seconds.\n",
      "-- Epoch 79\n",
      "Norm: 3.09, NNZs: 1, Bias: 3.893564, T: 7900, Avg. loss: 0.622931\n",
      "Total training time: 0.11 seconds.\n",
      "-- Epoch 80\n",
      "Norm: 3.09, NNZs: 1, Bias: 3.893943, T: 8000, Avg. loss: 0.622913\n",
      "Total training time: 0.11 seconds.\n",
      "-- Epoch 81\n",
      "Norm: 3.09, NNZs: 1, Bias: 3.893743, T: 8100, Avg. loss: 0.622905\n",
      "Total training time: 0.11 seconds.\n",
      "-- Epoch 82\n",
      "Norm: 3.09, NNZs: 1, Bias: 3.893942, T: 8200, Avg. loss: 0.622902\n",
      "Total training time: 0.11 seconds.\n",
      "-- Epoch 83\n",
      "Norm: 3.09, NNZs: 1, Bias: 3.893855, T: 8300, Avg. loss: 0.622889\n",
      "Total training time: 0.11 seconds.\n",
      "-- Epoch 84\n",
      "Norm: 3.09, NNZs: 1, Bias: 3.893857, T: 8400, Avg. loss: 0.622891\n",
      "Total training time: 0.11 seconds.\n",
      "-- Epoch 85\n",
      "Norm: 3.09, NNZs: 1, Bias: 3.893467, T: 8500, Avg. loss: 0.622864\n",
      "Total training time: 0.11 seconds.\n",
      "-- Epoch 86\n",
      "Norm: 3.09, NNZs: 1, Bias: 3.893248, T: 8600, Avg. loss: 0.622857\n",
      "Total training time: 0.11 seconds.\n",
      "-- Epoch 87\n",
      "Norm: 3.10, NNZs: 1, Bias: 3.893575, T: 8700, Avg. loss: 0.622876\n",
      "Total training time: 0.11 seconds.\n",
      "-- Epoch 88\n",
      "Norm: 3.10, NNZs: 1, Bias: 3.893487, T: 8800, Avg. loss: 0.622879\n",
      "Total training time: 0.11 seconds.\n",
      "-- Epoch 89\n",
      "Norm: 3.10, NNZs: 1, Bias: 3.893788, T: 8900, Avg. loss: 0.622872\n",
      "Total training time: 0.11 seconds.\n",
      "-- Epoch 90\n",
      "Norm: 3.10, NNZs: 1, Bias: 3.893825, T: 9000, Avg. loss: 0.622868\n",
      "Total training time: 0.11 seconds.\n",
      "-- Epoch 91\n",
      "Norm: 3.10, NNZs: 1, Bias: 3.893672, T: 9100, Avg. loss: 0.622865\n",
      "Total training time: 0.12 seconds.\n",
      "-- Epoch 92\n",
      "Norm: 3.10, NNZs: 1, Bias: 3.893775, T: 9200, Avg. loss: 0.622865\n",
      "Total training time: 0.12 seconds.\n",
      "-- Epoch 93\n",
      "Norm: 3.10, NNZs: 1, Bias: 3.894156, T: 9300, Avg. loss: 0.622857\n",
      "Total training time: 0.12 seconds.\n",
      "-- Epoch 94\n",
      "Norm: 3.10, NNZs: 1, Bias: 3.894228, T: 9400, Avg. loss: 0.622861\n",
      "Total training time: 0.12 seconds.\n",
      "-- Epoch 95\n",
      "Norm: 3.10, NNZs: 1, Bias: 3.893950, T: 9500, Avg. loss: 0.622844\n",
      "Total training time: 0.12 seconds.\n",
      "-- Epoch 96\n",
      "Norm: 3.10, NNZs: 1, Bias: 3.893575, T: 9600, Avg. loss: 0.622840\n",
      "Total training time: 0.12 seconds.\n",
      "-- Epoch 97\n",
      "Norm: 3.10, NNZs: 1, Bias: 3.893354, T: 9700, Avg. loss: 0.622849\n",
      "Total training time: 0.12 seconds.\n",
      "-- Epoch 98\n",
      "Norm: 3.10, NNZs: 1, Bias: 3.892789, T: 9800, Avg. loss: 0.622815\n",
      "Total training time: 0.12 seconds.\n",
      "-- Epoch 99\n",
      "Norm: 3.10, NNZs: 1, Bias: 3.892807, T: 9900, Avg. loss: 0.622851\n",
      "Total training time: 0.12 seconds.\n",
      "-- Epoch 100\n",
      "Norm: 3.10, NNZs: 1, Bias: 3.892663, T: 10000, Avg. loss: 0.622842\n",
      "Total training time: 0.12 seconds.\n"
     ]
    },
    {
     "name": "stderr",
     "output_type": "stream",
     "text": [
      "C:\\Users\\secan\\Anaconda3\\lib\\site-packages\\sklearn\\linear_model\\stochastic_gradient.py:183: FutureWarning: max_iter and tol parameters have been added in SGDRegressor in 0.19. If max_iter is set but tol is left unset, the default value for tol in 0.19 and 0.20 will be None (which is equivalent to -infinity, so it has no effect) but will change in 0.21 to 1e-3. Specify tol to silence this warning.\n",
      "  FutureWarning)\n",
      "C:\\Users\\secan\\Anaconda3\\lib\\site-packages\\sklearn\\utils\\validation.py:761: DataConversionWarning: A column-vector y was passed when a 1d array was expected. Please change the shape of y to (n_samples, ), for example using ravel().\n",
      "  y = column_or_1d(y, warn=True)\n"
     ]
    },
    {
     "data": {
      "image/png": "[encoded data removed]",
      "text/plain": [
       "<Figure size 432x288 with 1 Axes>"
      ]
     },
     "metadata": {
      "needs_background": "light"
     },
     "output_type": "display_data"
    }
   ],
   "source": [
    "from sklearn.linear_model import SGDRegressor\n",
    "\n",
    "model = SGDRegressor(penalty='l2', learning_rate='constant', eta0=0.001, max_iter=100, verbose=1)\n",
    "model.fit(X, y)\n",
    "y_pred = model.predict(X)\n",
    "\n",
    "plt.scatter(X, y)\n",
    "plt.plot(X, y_pred);"
   ]
  },
  {
   "cell_type": "markdown",
   "metadata": {},
   "source": [
    "## Lasso Regression"
   ]
  },
  {
   "cell_type": "markdown",
   "metadata": {},
   "source": [
    "Least Absolute Shrinkage and Selection Operator Regression (simply called Lasso Regression) is another regularized version of Linear Regression: just like Ridge Regression, it adds a regularization term to the cost function, but it uses the ℓ1 norm of the weight vector instead of half the square of the ℓ2 norm.\n",
    "\n",
    "$$min \\ J(\\theta) = \\frac{1}{m}\\sum_{i=1}^{m}(\\theta^{T}x^{(i)}- y^{(i)})^{2}$$\n",
    "\n",
    "$subject \\ to$\n",
    "\n",
    "$$\\sum_{j=1}^{n}|\\theta_{j}| \\leq t$$\n",
    "\n",
    "Cost Function:\n",
    "\n",
    "$$min \\ J(\\theta) = \\frac{1}{m}\\sum_{i=1}^{m}(\\theta^{T}x^{(i)}- y^{(i)})^{2} + \\alpha \\sum_{j=1}^{n}|\\theta_{j}|$$"
   ]
  },
  {
   "cell_type": "markdown",
   "metadata": {},
   "source": [
    "The Lasso cost function is not differentiable at $θ_{i} = 0$ (for i = 1, 2, , n), but Gradient Descent still works fine if you use a subgradient vector g."
   ]
  },
  {
   "cell_type": "code",
   "execution_count": 38,
   "metadata": {},
   "outputs": [
    {
     "name": "stdout",
     "output_type": "stream",
     "text": [
      "Final Parameters: \n",
      " [[0.10673152]\n",
      " [2.9224634 ]]\n"
     ]
    },
    {
     "data": {
      "image/png": "[encoded data removed]",
      "text/plain": [
       "<Figure size 432x288 with 1 Axes>"
      ]
     },
     "metadata": {},
     "output_type": "display_data"
    }
   ],
   "source": [
    "def lasso_reg(X, y, learning_rate=0.01, steps=1000, alpha=1):\n",
    "    m, n = X.shape\n",
    "    \n",
    "    X_aug = np.concatenate((np.ones((m, 1)), X), axis=1)\n",
    "\n",
    "    theta = np.random.randn(n + 1, 1)\n",
    "\n",
    "    fig, ax = plt.subplots()\n",
    "    ax.scatter(X, y)\n",
    "\n",
    "    for i in range(steps):\n",
    "        theta -= learning_rate * (2 / m) * X_aug.T @ (X_aug @ theta - y) + alpha * np.sign(theta)\n",
    "        y_pred = X_aug @ theta\n",
    "\n",
    "        if i // (steps // 10) == 0:\n",
    "            ax.plot(X_aug[:, 1], y_pred, color='green', alpha=0.3)\n",
    "    print('Final Parameters: \\n {}'.format(theta))\n",
    "\n",
    "    \n",
    "X = np.random.randn(100, 1)\n",
    "y = 3 * X + np.random.randn(100, 1)\n",
    "    \n",
    "lasso_reg(X, y, alpha=0.001, steps=1000)"
   ]
  },
  {
   "cell_type": "code",
   "execution_count": 48,
   "metadata": {},
   "outputs": [
    {
     "name": "stdout",
     "output_type": "stream",
     "text": [
      "[3.92368818] [2.94554883]\n"
     ]
    }
   ],
   "source": [
    "from sklearn.linear_model import Lasso\n",
    "\n",
    "model = Lasso(alpha=0.1)\n",
    "model.fit(X, y)\n",
    "print(model.intercept_, model.coef_)"
   ]
  },
  {
   "cell_type": "code",
   "execution_count": 49,
   "metadata": {},
   "outputs": [
    {
     "data": {
      "text/plain": [
       "<matplotlib.collections.PathCollection at 0x18fcc9870f0>"
      ]
     },
     "execution_count": 49,
     "metadata": {},
     "output_type": "execute_result"
    },
    {
     "data": {
      "image/png": "[encoded data removed]",
      "text/plain": [
       "<Figure size 432x288 with 1 Axes>"
      ]
     },
     "metadata": {},
     "output_type": "display_data"
    }
   ],
   "source": [
    "y_pred = model.predict(X)\n",
    "plt.scatter(y, y_pred)"
   ]
  },
  {
   "cell_type": "markdown",
   "metadata": {},
   "source": [
    "### Boston Dataset"
   ]
  },
  {
   "cell_type": "code",
   "execution_count": 26,
   "metadata": {},
   "outputs": [
    {
     "data": {
      "text/html": [
       "<div>\n",
       "<style scoped>\n",
       "    .dataframe tbody tr th:only-of-type {\n",
       "        vertical-align: middle;\n",
       "    }\n",
       "\n",
       "    .dataframe tbody tr th {\n",
       "        vertical-align: top;\n",
       "    }\n",
       "\n",
       "    .dataframe thead th {\n",
       "        text-align: right;\n",
       "    }\n",
       "</style>\n",
       "<table border=\"1\" class=\"dataframe\">\n",
       "  <thead>\n",
       "    <tr style=\"text-align: right;\">\n",
       "      <th></th>\n",
       "      <th>CRIM</th>\n",
       "      <th>ZN</th>\n",
       "      <th>INDUS</th>\n",
       "      <th>CHAS</th>\n",
       "      <th>NOX</th>\n",
       "      <th>RM</th>\n",
       "      <th>AGE</th>\n",
       "      <th>DIS</th>\n",
       "      <th>RAD</th>\n",
       "      <th>TAX</th>\n",
       "      <th>PTRATIO</th>\n",
       "      <th>B</th>\n",
       "      <th>LSTAT</th>\n",
       "      <th>PRICE</th>\n",
       "    </tr>\n",
       "  </thead>\n",
       "  <tbody>\n",
       "    <tr>\n",
       "      <th>0</th>\n",
       "      <td>0.00632</td>\n",
       "      <td>18.0</td>\n",
       "      <td>2.31</td>\n",
       "      <td>0.0</td>\n",
       "      <td>0.538</td>\n",
       "      <td>6.575</td>\n",
       "      <td>65.2</td>\n",
       "      <td>4.0900</td>\n",
       "      <td>1.0</td>\n",
       "      <td>296.0</td>\n",
       "      <td>15.3</td>\n",
       "      <td>396.90</td>\n",
       "      <td>4.98</td>\n",
       "      <td>24.0</td>\n",
       "    </tr>\n",
       "    <tr>\n",
       "      <th>1</th>\n",
       "      <td>0.02731</td>\n",
       "      <td>0.0</td>\n",
       "      <td>7.07</td>\n",
       "      <td>0.0</td>\n",
       "      <td>0.469</td>\n",
       "      <td>6.421</td>\n",
       "      <td>78.9</td>\n",
       "      <td>4.9671</td>\n",
       "      <td>2.0</td>\n",
       "      <td>242.0</td>\n",
       "      <td>17.8</td>\n",
       "      <td>396.90</td>\n",
       "      <td>9.14</td>\n",
       "      <td>21.6</td>\n",
       "    </tr>\n",
       "    <tr>\n",
       "      <th>2</th>\n",
       "      <td>0.02729</td>\n",
       "      <td>0.0</td>\n",
       "      <td>7.07</td>\n",
       "      <td>0.0</td>\n",
       "      <td>0.469</td>\n",
       "      <td>7.185</td>\n",
       "      <td>61.1</td>\n",
       "      <td>4.9671</td>\n",
       "      <td>2.0</td>\n",
       "      <td>242.0</td>\n",
       "      <td>17.8</td>\n",
       "      <td>392.83</td>\n",
       "      <td>4.03</td>\n",
       "      <td>34.7</td>\n",
       "    </tr>\n",
       "    <tr>\n",
       "      <th>3</th>\n",
       "      <td>0.03237</td>\n",
       "      <td>0.0</td>\n",
       "      <td>2.18</td>\n",
       "      <td>0.0</td>\n",
       "      <td>0.458</td>\n",
       "      <td>6.998</td>\n",
       "      <td>45.8</td>\n",
       "      <td>6.0622</td>\n",
       "      <td>3.0</td>\n",
       "      <td>222.0</td>\n",
       "      <td>18.7</td>\n",
       "      <td>394.63</td>\n",
       "      <td>2.94</td>\n",
       "      <td>33.4</td>\n",
       "    </tr>\n",
       "    <tr>\n",
       "      <th>4</th>\n",
       "      <td>0.06905</td>\n",
       "      <td>0.0</td>\n",
       "      <td>2.18</td>\n",
       "      <td>0.0</td>\n",
       "      <td>0.458</td>\n",
       "      <td>7.147</td>\n",
       "      <td>54.2</td>\n",
       "      <td>6.0622</td>\n",
       "      <td>3.0</td>\n",
       "      <td>222.0</td>\n",
       "      <td>18.7</td>\n",
       "      <td>396.90</td>\n",
       "      <td>5.33</td>\n",
       "      <td>36.2</td>\n",
       "    </tr>\n",
       "  </tbody>\n",
       "</table>\n",
       "</div>"
      ],
      "text/plain": [
       "      CRIM    ZN  INDUS  CHAS    NOX     RM   AGE     DIS  RAD    TAX  \\\n",
       "0  0.00632  18.0   2.31   0.0  0.538  6.575  65.2  4.0900  1.0  296.0   \n",
       "1  0.02731   0.0   7.07   0.0  0.469  6.421  78.9  4.9671  2.0  242.0   \n",
       "2  0.02729   0.0   7.07   0.0  0.469  7.185  61.1  4.9671  2.0  242.0   \n",
       "3  0.03237   0.0   2.18   0.0  0.458  6.998  45.8  6.0622  3.0  222.0   \n",
       "4  0.06905   0.0   2.18   0.0  0.458  7.147  54.2  6.0622  3.0  222.0   \n",
       "\n",
       "   PTRATIO       B  LSTAT  PRICE  \n",
       "0     15.3  396.90   4.98   24.0  \n",
       "1     17.8  396.90   9.14   21.6  \n",
       "2     17.8  392.83   4.03   34.7  \n",
       "3     18.7  394.63   2.94   33.4  \n",
       "4     18.7  396.90   5.33   36.2  "
      ]
     },
     "execution_count": 26,
     "metadata": {},
     "output_type": "execute_result"
    }
   ],
   "source": [
    "from sklearn.datasets import load_boston\n",
    "\n",
    "boston = load_boston()\n",
    "boston_df = pd.DataFrame(boston.data, columns=boston.feature_names)\n",
    "boston_df['PRICE'] = boston.target\n",
    "boston_df.head()"
   ]
  },
  {
   "cell_type": "code",
   "execution_count": 27,
   "metadata": {},
   "outputs": [
    {
     "name": "stdout",
     "output_type": "stream",
     "text": [
      ".. _boston_dataset:\n",
      "\n",
      "Boston house prices dataset\n",
      "---------------------------\n",
      "\n",
      "**Data Set Characteristics:**  \n",
      "\n",
      "    :Number of Instances: 506 \n",
      "\n",
      "    :Number of Attributes: 13 numeric/categorical predictive. Median Value (attribute 14) is usually the target.\n",
      "\n",
      "    :Attribute Information (in order):\n",
      "        - CRIM     per capita crime rate by town\n",
      "        - ZN       proportion of residential land zoned for lots over 25,000 sq.ft.\n",
      "        - INDUS    proportion of non-retail business acres per town\n",
      "        - CHAS     Charles River dummy variable (= 1 if tract bounds river; 0 otherwise)\n",
      "        - NOX      nitric oxides concentration (parts per 10 million)\n",
      "        - RM       average number of rooms per dwelling\n",
      "        - AGE      proportion of owner-occupied units built prior to 1940\n",
      "        - DIS      weighted distances to five Boston employment centres\n",
      "        - RAD      index of accessibility to radial highways\n",
      "        - TAX      full-value property-tax rate per $10,000\n",
      "        - PTRATIO  pupil-teacher ratio by town\n",
      "        - B        1000(Bk - 0.63)^2 where Bk is the proportion of blacks by town\n",
      "        - LSTAT    % lower status of the population\n",
      "        - MEDV     Median value of owner-occupied homes in $1000's\n",
      "\n",
      "    :Missing Attribute Values: None\n",
      "\n",
      "    :Creator: Harrison, D. and Rubinfeld, D.L.\n",
      "\n",
      "This is a copy of UCI ML housing dataset.\n",
      "https://archive.ics.uci.edu/ml/machine-learning-databases/housing/\n",
      "\n",
      "\n",
      "This dataset was taken from the StatLib library which is maintained at Carnegie Mellon University.\n",
      "\n",
      "The Boston house-price data of Harrison, D. and Rubinfeld, D.L. 'Hedonic\n",
      "prices and the demand for clean air', J. Environ. Economics & Management,\n",
      "vol.5, 81-102, 1978.   Used in Belsley, Kuh & Welsch, 'Regression diagnostics\n",
      "...', Wiley, 1980.   N.B. Various transformations are used in the table on\n",
      "pages 244-261 of the latter.\n",
      "\n",
      "The Boston house-price data has been used in many machine learning papers that address regression\n",
      "problems.   \n",
      "     \n",
      ".. topic:: References\n",
      "\n",
      "   - Belsley, Kuh & Welsch, 'Regression diagnostics: Identifying Influential Data and Sources of Collinearity', Wiley, 1980. 244-261.\n",
      "   - Quinlan,R. (1993). Combining Instance-Based and Model-Based Learning. In Proceedings on the Tenth International Conference of Machine Learning, 236-243, University of Massachusetts, Amherst. Morgan Kaufmann.\n",
      "\n"
     ]
    }
   ],
   "source": [
    "print(boston.DESCR)"
   ]
  },
  {
   "cell_type": "markdown",
   "metadata": {},
   "source": [
    "### Lasso Path"
   ]
  },
  {
   "cell_type": "code",
   "execution_count": 53,
   "metadata": {},
   "outputs": [
    {
     "data": {
      "image/png": "[encoded data removed]",
      "text/plain": [
       "<Figure size 1152x432 with 1 Axes>"
      ]
     },
     "metadata": {},
     "output_type": "display_data"
    }
   ],
   "source": [
    "from sklearn.linear_model import lasso_path\n",
    "\n",
    "X = boston_df.drop('PRICE', axis=1)\n",
    "y = boston_df['PRICE']\n",
    "\n",
    "alphas, coefs, _ = lasso_path(X, y, alphas=[0.000001, 0.0001, 0.001, 0.01, 0.1, 1, 10])\n",
    "\n",
    "plt.figure(figsize=(16, 6))\n",
    "for i, coef in enumerate(coefs):\n",
    "    plt.plot(np.log(alphas), coef, label=X.columns[i], linewidth=4, alpha=0.6)\n",
    "    \n",
    "plt.legend();\n",
    "    "
   ]
  },
  {
   "cell_type": "code",
   "execution_count": 52,
   "metadata": {},
   "outputs": [
    {
     "data": {
      "text/plain": [
       "(13, 7)"
      ]
     },
     "execution_count": 52,
     "metadata": {},
     "output_type": "execute_result"
    }
   ],
   "source": [
    "coefs.shape"
   ]
  },
  {
   "cell_type": "markdown",
   "metadata": {},
   "source": [
    "## Logistic Regression"
   ]
  },
  {
   "cell_type": "markdown",
   "metadata": {},
   "source": [
    "Just like a Linear Regression model, a Logistic Regression model computes a weighted sum of the input features (plus a bias term), but instead of outputting the result directly like the Linear Regression model does, it outputs the logistic of this result .\n",
    "\n",
    "$$\\hat{p} = h_{\\theta}(x) = \\sigma(\\theta^{T}x)$$\n",
    "\n",
    "where $\\sigma(\\cdot)$ is the logistic function:\n",
    "\n",
    "$$\\sigma(t) = \\frac{1}{1 + e^{-t}}$$"
   ]
  },
  {
   "cell_type": "code",
   "execution_count": 5,
   "metadata": {},
   "outputs": [
    {
     "data": {
      "image/png": "[encoded data removed]",
      "text/plain": [
       "<Figure size 432x288 with 1 Axes>"
      ]
     },
     "metadata": {
      "needs_background": "light"
     },
     "output_type": "display_data"
    }
   ],
   "source": [
    "sigm = lambda t: 1 / (1 + np.e ** (-t))\n",
    "t_range = np.linspace(-5, 5)\n",
    "plt.plot(t_range, sigm(t_range));"
   ]
  },
  {
   "cell_type": "markdown",
   "metadata": {},
   "source": [
    "Cost Function:\n",
    "\n",
    "\n",
    "$$J(\\theta) = \\frac{1}{m}\\sum_{i=1}^{m}[y^{(i)}log(\\hat{p}^{(i)}) + (1 - y^{(i)})log(1 - \\hat{p}^{(i)})])$$\n",
    "\n",
    "\n",
    "$$\\frac{\\partial}{\\partial \\theta_{j}}J(\\theta) = \\frac{1}{m}\\sum_{i=1}^{m} (\\sigma(\\theta^{T}x^{(i)}) - y^{(i)})x_{j}^{(i)}$$"
   ]
  },
  {
   "cell_type": "code",
   "execution_count": 56,
   "metadata": {},
   "outputs": [],
   "source": [
    "from sklearn import datasets\n",
    "from sklearn.linear_model import LogisticRegression\n",
    "from sklearn.model_selection import train_test_split\n",
    "\n",
    "iris = datasets.load_iris()"
   ]
  },
  {
   "cell_type": "code",
   "execution_count": 57,
   "metadata": {},
   "outputs": [
    {
     "data": {
      "text/html": [
       "<div>\n",
       "<style scoped>\n",
       "    .dataframe tbody tr th:only-of-type {\n",
       "        vertical-align: middle;\n",
       "    }\n",
       "\n",
       "    .dataframe tbody tr th {\n",
       "        vertical-align: top;\n",
       "    }\n",
       "\n",
       "    .dataframe thead th {\n",
       "        text-align: right;\n",
       "    }\n",
       "</style>\n",
       "<table border=\"1\" class=\"dataframe\">\n",
       "  <thead>\n",
       "    <tr style=\"text-align: right;\">\n",
       "      <th></th>\n",
       "      <th>sepal length (cm)</th>\n",
       "      <th>sepal width (cm)</th>\n",
       "      <th>petal length (cm)</th>\n",
       "      <th>petal width (cm)</th>\n",
       "      <th>class</th>\n",
       "    </tr>\n",
       "  </thead>\n",
       "  <tbody>\n",
       "    <tr>\n",
       "      <th>0</th>\n",
       "      <td>5.1</td>\n",
       "      <td>3.5</td>\n",
       "      <td>1.4</td>\n",
       "      <td>0.2</td>\n",
       "      <td>0</td>\n",
       "    </tr>\n",
       "    <tr>\n",
       "      <th>1</th>\n",
       "      <td>4.9</td>\n",
       "      <td>3.0</td>\n",
       "      <td>1.4</td>\n",
       "      <td>0.2</td>\n",
       "      <td>0</td>\n",
       "    </tr>\n",
       "    <tr>\n",
       "      <th>2</th>\n",
       "      <td>4.7</td>\n",
       "      <td>3.2</td>\n",
       "      <td>1.3</td>\n",
       "      <td>0.2</td>\n",
       "      <td>0</td>\n",
       "    </tr>\n",
       "    <tr>\n",
       "      <th>3</th>\n",
       "      <td>4.6</td>\n",
       "      <td>3.1</td>\n",
       "      <td>1.5</td>\n",
       "      <td>0.2</td>\n",
       "      <td>0</td>\n",
       "    </tr>\n",
       "    <tr>\n",
       "      <th>4</th>\n",
       "      <td>5.0</td>\n",
       "      <td>3.6</td>\n",
       "      <td>1.4</td>\n",
       "      <td>0.2</td>\n",
       "      <td>0</td>\n",
       "    </tr>\n",
       "  </tbody>\n",
       "</table>\n",
       "</div>"
      ],
      "text/plain": [
       "   sepal length (cm)  sepal width (cm)  petal length (cm)  petal width (cm)  \\\n",
       "0                5.1               3.5                1.4               0.2   \n",
       "1                4.9               3.0                1.4               0.2   \n",
       "2                4.7               3.2                1.3               0.2   \n",
       "3                4.6               3.1                1.5               0.2   \n",
       "4                5.0               3.6                1.4               0.2   \n",
       "\n",
       "   class  \n",
       "0      0  \n",
       "1      0  \n",
       "2      0  \n",
       "3      0  \n",
       "4      0  "
      ]
     },
     "execution_count": 57,
     "metadata": {},
     "output_type": "execute_result"
    }
   ],
   "source": [
    "iris_df = pd.DataFrame(iris['data'], columns=iris['feature_names'])\n",
    "iris_df['class'] = iris['target']\n",
    "iris_df.head()"
   ]
  },
  {
   "cell_type": "code",
   "execution_count": 61,
   "metadata": {},
   "outputs": [
    {
     "data": {
      "text/plain": [
       "0      False\n",
       "1      False\n",
       "2      False\n",
       "3      False\n",
       "4      False\n",
       "5      False\n",
       "6      False\n",
       "7      False\n",
       "8      False\n",
       "9      False\n",
       "10     False\n",
       "11     False\n",
       "12     False\n",
       "13     False\n",
       "14     False\n",
       "15     False\n",
       "16     False\n",
       "17     False\n",
       "18     False\n",
       "19     False\n",
       "20     False\n",
       "21     False\n",
       "22     False\n",
       "23     False\n",
       "24     False\n",
       "25     False\n",
       "26     False\n",
       "27     False\n",
       "28     False\n",
       "29     False\n",
       "       ...  \n",
       "120     True\n",
       "121     True\n",
       "122     True\n",
       "123     True\n",
       "124     True\n",
       "125     True\n",
       "126     True\n",
       "127     True\n",
       "128     True\n",
       "129     True\n",
       "130     True\n",
       "131     True\n",
       "132     True\n",
       "133     True\n",
       "134     True\n",
       "135     True\n",
       "136     True\n",
       "137     True\n",
       "138     True\n",
       "139     True\n",
       "140     True\n",
       "141     True\n",
       "142     True\n",
       "143     True\n",
       "144     True\n",
       "145     True\n",
       "146     True\n",
       "147     True\n",
       "148     True\n",
       "149     True\n",
       "Name: class, Length: 150, dtype: bool"
      ]
     },
     "execution_count": 61,
     "metadata": {},
     "output_type": "execute_result"
    }
   ],
   "source": [
    "iris_df['class'] == 2"
   ]
  },
  {
   "cell_type": "code",
   "execution_count": 63,
   "metadata": {},
   "outputs": [],
   "source": [
    "X = iris_df.drop('class', axis=1)\n",
    "y = iris_df['class'] == 2\n",
    "\n",
    "X_train, X_test, y_train, y_test = train_test_split(X, y, train_size=0.6)"
   ]
  },
  {
   "cell_type": "code",
   "execution_count": 65,
   "metadata": {},
   "outputs": [
    {
     "name": "stderr",
     "output_type": "stream",
     "text": [
      "C:\\Users\\secan\\Anaconda3\\lib\\site-packages\\sklearn\\linear_model\\logistic.py:433: FutureWarning: Default solver will be changed to 'lbfgs' in 0.22. Specify a solver to silence this warning.\n",
      "  FutureWarning)\n"
     ]
    }
   ],
   "source": [
    "model = LogisticRegression()\n",
    "model.fit(X_train, y_train)\n",
    "y_train_pred = model.predict(X_train)\n",
    "y_test_pred = model.predict(X_test)"
   ]
  },
  {
   "cell_type": "code",
   "execution_count": 70,
   "metadata": {},
   "outputs": [
    {
     "name": "stdout",
     "output_type": "stream",
     "text": [
      "Train Score 0.9666666666666667\n",
      "Test Score 0.9833333333333333\n"
     ]
    }
   ],
   "source": [
    "from sklearn.metrics import accuracy_score\n",
    "print('Train Score', accuracy_score(y_train, y_train_pred))\n",
    "print('Test Score', accuracy_score(y_test, y_test_pred))"
   ]
  },
  {
   "cell_type": "code",
   "execution_count": null,
   "metadata": {},
   "outputs": [],
   "source": []
  }
 ],
 "metadata": {
  "kernelspec": {
   "display_name": "Python 3",
   "language": "python",
   "name": "python3"
  },
  "language_info": {
   "codemirror_mode": {
    "name": "ipython",
    "version": 3
   },
   "file_extension": ".py",
   "mimetype": "text/x-python",
   "name": "python",
   "nbconvert_exporter": "python",
   "pygments_lexer": "ipython3",
   "version": "3.7.3"
  }
 },
 "nbformat": 4,
 "nbformat_minor": 2
}
