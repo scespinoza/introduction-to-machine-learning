{
 "cells": [
  {
   "cell_type": "markdown",
   "metadata": {
    "slideshow": {
     "slide_type": "-"
    }
   },
   "source": [
    "# Simple Linear Regression\n",
    "\n",
    "\n",
    "$$y = a + bx + e$$\n",
    "\n",
    "Estimate $a$ and $b$ with normal equations:\n",
    "\n",
    "$$b = \\frac{n\\sum{x_{i}y_{i} - \\sum{x_{i}}\\sum{y_{i}}}}{n\\sum{x_{i}^{2}} - (\\sum{x_{i}})^{2}}$$\n",
    "\n",
    "$$a = \\bar{y} - b\\bar{x}$$\n",
    "\n",
    "We need to compute:\n",
    " \n",
    " - $\\sum{x_{i}}$\n",
    " \n",
    " - $\\sum{y_{i}}$\n",
    " \n",
    " - $\\sum{x_{i}^{2}}$\n",
    " \n",
    " - $\\sum{x_{i}y_{i}}$\n",
    "\n",
    "Our dataset:\n",
    "\n",
    "x = [1, 2, 3, 4, 5, 6, 7]\n",
    "\n",
    "y = [0.5, 2.5, 2, 4, 2.5, 6, 5.5]"
   ]
  },
  {
   "cell_type": "code",
   "execution_count": 1,
   "metadata": {
    "slideshow": {
     "slide_type": "slide"
    }
   },
   "outputs": [],
   "source": [
    "import matplotlib.pyplot as plt\n",
    "plt.figure(figsize=(12, 7))\n",
    "plt.scatter([1, 2, 3, 4, 5, 6, 7], [0.5, 2.5, 2, 4, 2.5, 6, 5.5]);"
   ]
  },
  {
   "cell_type": "code",
   "execution_count": 3,
   "metadata": {},
   "outputs": [
    {
     "name": "stdout",
     "output_type": "stream",
     "text": [
      "Sum of x:  28\n",
      "Sum of y:  23.0\n",
      "Sum of x ** 2:  140\n",
      "Sum of x * y:  114.5\n",
      "Estimated Function: y = 0.071 + 0.8x\n"
     ]
    }
   ],
   "source": [
    "def least_squares(x, y):\n",
    "    \n",
    "    n = len(x)\n",
    "    xsum = 0\n",
    "    ysum = 0\n",
    "    xsq = 0\n",
    "    s = 0\n",
    "    \n",
    "    for i in range(n):\n",
    "        \n",
    "        xsum += x[i]\n",
    "        ysum += y[i]\n",
    "        xsq += x[i] ** 2\n",
    "        s += x[i] * y[i]\n",
    "    \n",
    "    print(\"Sum of x: \", xsum)\n",
    "    print(\"Sum of y: \", ysum)\n",
    "    print(\"Sum of x ** 2: \", xsq)\n",
    "    print(\"Sum of x * y: \", s)\n",
    "    \n",
    "    xmean = xsum / n\n",
    "    ymean = ysum / n\n",
    "    \n",
    "    b = (n * s - xsum * ysum) / (n * xsq - xsum ** 2)\n",
    "    a = ymean - b * xmean\n",
    "    print('Estimated Function: y = {:.2} + {:.2}x'.format(a, b))\n",
    "    return a, b\n",
    "\n",
    "x = [1, 2, 3, 4, 5, 6, 7]\n",
    "y = [0.5, 2.5, 2, 4, 2.5, 6, 5.5]\n",
    "\n",
    "a, b = least_squares(x, y)\n"
   ]
  },
  {
   "cell_type": "markdown",
   "metadata": {},
   "source": [
    "# Newton - Raphson\n",
    "\n",
    "$$x_{n + 1} = x_{n} - \\frac{f(x_{n})}{f'(x_{n})}$$\n",
    "\n",
    "We need:\n",
    "\n",
    " - The function.\n",
    " - The derivative.\n",
    " - An epsilon.\n",
    " - A starting point."
   ]
  },
  {
   "cell_type": "markdown",
   "metadata": {},
   "source": [
    "$$f(x) = x^{2} - 4x -7$$"
   ]
  },
  {
   "cell_type": "code",
   "execution_count": 4,
   "metadata": {},
   "outputs": [],
   "source": [
    "import numpy as np\n",
    "import matplotlib.pyplot as plt"
   ]
  },
  {
   "cell_type": "code",
   "execution_count": 5,
   "metadata": {},
   "outputs": [
    {
     "data": {
      "text/plain": [
       "[<matplotlib.lines.Line2D at 0x1cf5a993278>]"
      ]
     },
     "execution_count": 5,
     "metadata": {},
     "output_type": "execute_result"
    },
    {
     "data": {
      "image/png": "[encoded data removed]",
      "text/plain": [
       "<Figure size 432x288 with 1 Axes>"
      ]
     },
     "metadata": {
      "needs_background": "light"
     },
     "output_type": "display_data"
    }
   ],
   "source": [
    "f = lambda x: x ** 2 - 4 * x - 7\n",
    "df = lambda x: 2 * x - 4\n",
    "\n",
    "x = np.linspace(-10, 10, 100)\n",
    "y = f(x)\n",
    "plt.plot(x, y)\n"
   ]
  },
  {
   "cell_type": "code",
   "execution_count": 6,
   "metadata": {},
   "outputs": [
    {
     "name": "stdout",
     "output_type": "stream",
     "text": [
      "The method converged to -1.3173802020319245 in 4 iterations. (epsilon = 0.01)\n"
     ]
    },
    {
     "data": {
      "text/plain": [
       "-1.3173802020319245"
      ]
     },
     "execution_count": 6,
     "metadata": {},
     "output_type": "execute_result"
    }
   ],
   "source": [
    "def newton_raphson(f, df, epsilon, x0):\n",
    "    x = x0\n",
    "    i = 0\n",
    "    while abs(f(x)) > epsilon:\n",
    "        x = x - f(x)/df(x)\n",
    "        i += 1\n",
    "        \n",
    "    print(\"The method converged to {} in {} iterations. (epsilon = {})\".format(x, i, epsilon))\n",
    "    return x\n",
    "newton_raphson(f, df, 0.01, -10)"
   ]
  },
  {
   "cell_type": "markdown",
   "metadata": {},
   "source": [
    "## The Secant Method"
   ]
  },
  {
   "cell_type": "markdown",
   "metadata": {},
   "source": [
    "$$x_{i + 1} = x_{i} - \\frac{f(x_{i - 1})(x_{i - 1} - x_{i}) }{f(x_{i - 1}) - f(x_{i})}$$"
   ]
  },
  {
   "cell_type": "markdown",
   "metadata": {},
   "source": [
    "$$f(x) = e^{-x} - x$$\n",
    "\n",
    "$x_{0} = 1$,\n",
    "$x_{-1} = 0$\n",
    "\n",
    "Function:\n",
    "\n",
    "\n",
    "```\n",
    "def secant_method (f, x0, x_1):\n",
    "    // your code here\n",
    "    return x\n",
    "```\n",
    "\n",
    "solution: \n",
    "\n",
    "x = [0.5, 0.5663110031972182, 0.5671431650348622, 0.5671432904097811, 0.5671432904097811]\n",
    "\n",
    "\n",
    "et = [100.0, 11.709290976662398, 0.14672870783743905, 2.2106391984397626e-05]"
   ]
  },
  {
   "cell_type": "markdown",
   "metadata": {},
   "source": [
    "## Pandas"
   ]
  },
  {
   "cell_type": "code",
   "execution_count": 7,
   "metadata": {},
   "outputs": [],
   "source": [
    "import pandas as pd"
   ]
  },
  {
   "cell_type": "markdown",
   "metadata": {},
   "source": [
    "Import functions:\n",
    "\n",
    "```\n",
    "pd.import_csv()\n",
    "pd.import_excel()\n",
    "\n",
    "\n",
    "```\n",
    "\n",
    "Datasets:\n",
    "\n",
    " - Boston Crimes Dataset (ISO-8859-1): crimes.csv\n",
    " - Google Reads Books: books.csv\n",
    " "
   ]
  },
  {
   "cell_type": "code",
   "execution_count": 23,
   "metadata": {},
   "outputs": [
    {
     "name": "stdout",
     "output_type": "stream",
     "text": [
      "<class 'pandas.core.frame.DataFrame'>\n",
      "RangeIndex: 13714 entries, 0 to 13713\n",
      "Data columns (total 10 columns):\n",
      "bookID                13714 non-null int64\n",
      "title                 13714 non-null object\n",
      "authors               13714 non-null object\n",
      "average_rating        13714 non-null float64\n",
      "isbn                  13714 non-null object\n",
      "isbn13                13714 non-null int64\n",
      "language_code         13714 non-null object\n",
      "# num_pages           13714 non-null int64\n",
      "ratings_count         13714 non-null int64\n",
      "text_reviews_count    13714 non-null int64\n",
      "dtypes: float64(1), int64(5), object(4)\n",
      "memory usage: 1.0+ MB\n"
     ]
    },
    {
     "name": "stderr",
     "output_type": "stream",
     "text": [
      "b'Skipping line 4012: expected 10 fields, saw 11\\nSkipping line 5688: expected 10 fields, saw 11\\nSkipping line 7056: expected 10 fields, saw 11\\nSkipping line 10601: expected 10 fields, saw 11\\nSkipping line 10668: expected 10 fields, saw 11\\n'\n"
     ]
    }
   ],
   "source": [
    "books = pd.read_csv('data/books.csv', error_bad_lines=False)\n",
    "books.info()"
   ]
  },
  {
   "cell_type": "code",
   "execution_count": 24,
   "metadata": {},
   "outputs": [
    {
     "data": {
      "text/html": [
       "<div>\n",
       "<style scoped>\n",
       "    .dataframe tbody tr th:only-of-type {\n",
       "        vertical-align: middle;\n",
       "    }\n",
       "\n",
       "    .dataframe tbody tr th {\n",
       "        vertical-align: top;\n",
       "    }\n",
       "\n",
       "    .dataframe thead th {\n",
       "        text-align: right;\n",
       "    }\n",
       "</style>\n",
       "<table border=\"1\" class=\"dataframe\">\n",
       "  <thead>\n",
       "    <tr style=\"text-align: right;\">\n",
       "      <th></th>\n",
       "      <th>bookID</th>\n",
       "      <th>average_rating</th>\n",
       "      <th>isbn13</th>\n",
       "      <th># num_pages</th>\n",
       "      <th>ratings_count</th>\n",
       "      <th>text_reviews_count</th>\n",
       "    </tr>\n",
       "  </thead>\n",
       "  <tbody>\n",
       "    <tr>\n",
       "      <th>count</th>\n",
       "      <td>13714.000000</td>\n",
       "      <td>13714.000000</td>\n",
       "      <td>1.371400e+04</td>\n",
       "      <td>13714.000000</td>\n",
       "      <td>1.371400e+04</td>\n",
       "      <td>13714.000000</td>\n",
       "    </tr>\n",
       "    <tr>\n",
       "      <th>mean</th>\n",
       "      <td>22159.859195</td>\n",
       "      <td>3.930620</td>\n",
       "      <td>9.764017e+12</td>\n",
       "      <td>342.402727</td>\n",
       "      <td>1.776540e+04</td>\n",
       "      <td>533.632128</td>\n",
       "    </tr>\n",
       "    <tr>\n",
       "      <th>std</th>\n",
       "      <td>13700.926816</td>\n",
       "      <td>0.357893</td>\n",
       "      <td>3.987679e+11</td>\n",
       "      <td>252.650165</td>\n",
       "      <td>1.129572e+05</td>\n",
       "      <td>2529.006691</td>\n",
       "    </tr>\n",
       "    <tr>\n",
       "      <th>min</th>\n",
       "      <td>1.000000</td>\n",
       "      <td>0.000000</td>\n",
       "      <td>8.987060e+09</td>\n",
       "      <td>0.000000</td>\n",
       "      <td>0.000000e+00</td>\n",
       "      <td>0.000000</td>\n",
       "    </tr>\n",
       "    <tr>\n",
       "      <th>25%</th>\n",
       "      <td>10619.250000</td>\n",
       "      <td>3.770000</td>\n",
       "      <td>9.780345e+12</td>\n",
       "      <td>196.000000</td>\n",
       "      <td>8.300000e+01</td>\n",
       "      <td>7.000000</td>\n",
       "    </tr>\n",
       "    <tr>\n",
       "      <th>50%</th>\n",
       "      <td>21321.500000</td>\n",
       "      <td>3.960000</td>\n",
       "      <td>9.780613e+12</td>\n",
       "      <td>301.000000</td>\n",
       "      <td>6.305000e+02</td>\n",
       "      <td>40.000000</td>\n",
       "    </tr>\n",
       "    <tr>\n",
       "      <th>75%</th>\n",
       "      <td>33311.750000</td>\n",
       "      <td>4.130000</td>\n",
       "      <td>9.780940e+12</td>\n",
       "      <td>421.000000</td>\n",
       "      <td>4.742250e+03</td>\n",
       "      <td>222.000000</td>\n",
       "    </tr>\n",
       "    <tr>\n",
       "      <th>max</th>\n",
       "      <td>47709.000000</td>\n",
       "      <td>5.000000</td>\n",
       "      <td>9.790008e+12</td>\n",
       "      <td>6576.000000</td>\n",
       "      <td>5.629932e+06</td>\n",
       "      <td>93619.000000</td>\n",
       "    </tr>\n",
       "  </tbody>\n",
       "</table>\n",
       "</div>"
      ],
      "text/plain": [
       "             bookID  average_rating        isbn13   # num_pages  \\\n",
       "count  13714.000000    13714.000000  1.371400e+04  13714.000000   \n",
       "mean   22159.859195        3.930620  9.764017e+12    342.402727   \n",
       "std    13700.926816        0.357893  3.987679e+11    252.650165   \n",
       "min        1.000000        0.000000  8.987060e+09      0.000000   \n",
       "25%    10619.250000        3.770000  9.780345e+12    196.000000   \n",
       "50%    21321.500000        3.960000  9.780613e+12    301.000000   \n",
       "75%    33311.750000        4.130000  9.780940e+12    421.000000   \n",
       "max    47709.000000        5.000000  9.790008e+12   6576.000000   \n",
       "\n",
       "       ratings_count  text_reviews_count  \n",
       "count   1.371400e+04        13714.000000  \n",
       "mean    1.776540e+04          533.632128  \n",
       "std     1.129572e+05         2529.006691  \n",
       "min     0.000000e+00            0.000000  \n",
       "25%     8.300000e+01            7.000000  \n",
       "50%     6.305000e+02           40.000000  \n",
       "75%     4.742250e+03          222.000000  \n",
       "max     5.629932e+06        93619.000000  "
      ]
     },
     "execution_count": 24,
     "metadata": {},
     "output_type": "execute_result"
    }
   ],
   "source": [
    "books.describe()"
   ]
  },
  {
   "cell_type": "code",
   "execution_count": 22,
   "metadata": {},
   "outputs": [
    {
     "data": {
      "text/plain": [
       "One Hundred Years of Solitude                                                     11\n",
       "'Salem's Lot                                                                      11\n",
       "The Brothers Karamazov                                                            10\n",
       "The Iliad                                                                         10\n",
       "A Midsummer Night's Dream                                                          9\n",
       "Gulliver's Travels                                                                 9\n",
       "The Lord of the Rings (The Lord of the Rings  #1-3)                                9\n",
       "Collected Stories                                                                  9\n",
       "A Tale of Two Cities                                                               9\n",
       "The Odyssey                                                                        8\n",
       "Robinson Crusoe                                                                    8\n",
       "Anna Karenina                                                                      8\n",
       "Romeo and Juliet                                                                   8\n",
       "Fahrenheit 451                                                                     7\n",
       "Heart of Darkness                                                                  7\n",
       "The Picture of Dorian Gray                                                         7\n",
       "The Scarlet Letter                                                                 7\n",
       "Lord of the Flies                                                                  7\n",
       "Pride and Prejudice                                                                7\n",
       "Frankenstein                                                                       6\n",
       "The Histories                                                                      6\n",
       "Jane Eyre                                                                          6\n",
       "Lolita                                                                             6\n",
       "The Great Gatsby                                                                   6\n",
       "Macbeth                                                                            6\n",
       "The Enemy (Jack Reacher  #8)                                                       6\n",
       "The Communist Manifesto                                                            6\n",
       "King Lear                                                                          6\n",
       "The Idiot                                                                          6\n",
       "Paradise Lost                                                                      6\n",
       "                                                                                  ..\n",
       "The Riverside Milton                                                               1\n",
       "The Politics of Cultural Despair: A Study in the Rise of the Germanic Ideology     1\n",
       "Philosophy of Mind: Classical and Contemporary Readings                            1\n",
       "Exemplary Stories                                                                  1\n",
       "The Tale of Peter Rabbit (Rabbit Ears)                                             1\n",
       "Here I Stand: A Life of Martin Luther                                              1\n",
       "Master of Swords (Mageverse #4)                                                    1\n",
       "Gloriana                                                                           1\n",
       "A Tear and a Smile                                                                 1\n",
       "The Scions of Shannara (Heritage of Shannara  #1)                                  1\n",
       "The Bluest Eye; Sula ; Song Of Solomon                                             1\n",
       "Sir Thursday (The Keys to the Kingdom  #4)                                         1\n",
       "The Governess; or  The Little Female Academy                                       1\n",
       "The Ecological Approach to Visual Perception                                       1\n",
       "Sweet Revenge                                                                      1\n",
       "Princess Sultana's Daughters                                                       1\n",
       "The New Testament                                                                  1\n",
       "Door Wide Open: A Beat Love Affair in Letters  1957-1958                           1\n",
       "My Inventions                                                                      1\n",
       "Shipwreck (Island I)                                                               1\n",
       "Selected Poetry                                                                    1\n",
       "Meditations on First Philosophy                                                    1\n",
       "The Last Wife of Henry VIII                                                        1\n",
       "Love Is a Mix Tape                                                                 1\n",
       "Category: Freaks  Vol. 1 (Category: Freaks  #1)                                    1\n",
       "A Place Where the Sea Remembers                                                    1\n",
       "At the Mountains of Madness                                                        1\n",
       "The Living Blood (African Immortals  #2)                                           1\n",
       "Escape from Fire Mountain (World of Adventure  #3)                                 1\n",
       "Medieval Philosophy                                                                1\n",
       "Name: title, Length: 12422, dtype: int64"
      ]
     },
     "execution_count": 22,
     "metadata": {},
     "output_type": "execute_result"
    }
   ],
   "source": [
    "books['title'].value_counts()"
   ]
  },
  {
   "cell_type": "code",
   "execution_count": null,
   "metadata": {},
   "outputs": [],
   "source": []
  }
 ],
 "metadata": {
  "kernelspec": {
   "display_name": "Python 3",
   "language": "python",
   "name": "python3"
  },
  "language_info": {
   "codemirror_mode": {
    "name": "ipython",
    "version": 3
   },
   "file_extension": ".py",
   "mimetype": "text/x-python",
   "name": "python",
   "nbconvert_exporter": "python",
   "pygments_lexer": "ipython3",
   "version": "3.7.3"
  }
 },
 "nbformat": 4,
 "nbformat_minor": 2
}
