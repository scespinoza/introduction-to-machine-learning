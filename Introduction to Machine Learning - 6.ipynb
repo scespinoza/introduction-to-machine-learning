{
 "cells": [
  {
   "cell_type": "markdown",
   "metadata": {},
   "source": [
    "# Cross Validation and Hyperparameter Optimization"
   ]
  },
  {
   "cell_type": "code",
   "execution_count": null,
   "metadata": {},
   "outputs": [],
   "source": [
    "import numpy as np\n",
    "import pandas as pd\n",
    "import matplotlib.pyplot as plt\n",
    "import seaborn as sns\n",
    "from sklearn.linear_model import LinearRegression, LogisticRegression, Lasso, Ridge, SGDRegressor\n",
    "from sklearn.metrics import r2_score, mean_squared_error\n",
    "from sklearn.datasets import load_boston, load_iris"
   ]
  },
  {
   "cell_type": "markdown",
   "metadata": {},
   "source": [
    "## Dataset"
   ]
  },
  {
   "cell_type": "code",
   "execution_count": null,
   "metadata": {},
   "outputs": [],
   "source": [
    "boston = load_boston()\n",
    "boston.keys()"
   ]
  },
  {
   "cell_type": "code",
   "execution_count": null,
   "metadata": {},
   "outputs": [],
   "source": [
    "boston_df = pd.DataFrame(boston['data'], columns=boston['feature_names'])\n",
    "boston_df['MEDV'] = boston['target']"
   ]
  },
  {
   "cell_type": "code",
   "execution_count": null,
   "metadata": {},
   "outputs": [],
   "source": [
    "boston_df.head()"
   ]
  },
  {
   "cell_type": "code",
   "execution_count": null,
   "metadata": {},
   "outputs": [],
   "source": [
    "cm = boston_df.corr()\n",
    "fig, ax = plt.subplots(figsize=(10, 10))\n",
    "sns.heatmap(cm, square=True, annot=True, ax=ax, cmap='RdBu');"
   ]
  },
  {
   "cell_type": "code",
   "execution_count": null,
   "metadata": {},
   "outputs": [],
   "source": [
    "sns.pairplot(boston_df[['LSTAT', 'PTRATIO', 'RM', 'TAX', 'MEDV']]);"
   ]
  },
  {
   "cell_type": "markdown",
   "metadata": {},
   "source": [
    "### Train Test Split"
   ]
  },
  {
   "cell_type": "code",
   "execution_count": null,
   "metadata": {},
   "outputs": [],
   "source": [
    "from sklearn.model_selection import train_test_split\n",
    "\n",
    "X = boston_df.drop('MEDV', axis=1)\n",
    "y = boston_df['MEDV']\n",
    "\n",
    "# split the dataset\n",
    "X_train, X_test, y_train, y_test = train_test_split(X, y, test_size=0.3)\n",
    "\n",
    "# fit the model\n",
    "model = LinearRegression()\n",
    "model.fit(X_train, y_train)\n",
    "\n",
    "# predict\n",
    "y_train_pred = model.predict(X_train)\n",
    "y_test_pred = model.predict(X_test)\n",
    "\n",
    "#validation\n",
    "\n",
    "train_score = r2_score(y_train, y_train_pred)\n",
    "test_score = r2_score(y_test, y_test_pred)\n",
    "\n",
    "train_mse = mean_squared_error(y_train, y_train_pred)\n",
    "test_mse = mean_squared_error(y_test, y_test_pred)\n",
    "\n",
    "print('Train Set')\n",
    "print('Train MSE : ', train_mse)\n",
    "print('Train R2 Score: ', train_score)\n",
    "print('Test Set')\n",
    "print('Test MSE : ', test_mse)\n",
    "print('Test R2 Score: ', test_score)\n",
    "\n",
    "fig, ax = plt.subplots(figsize=(10, 6))\n",
    "ax.bar(range(len(model.coef_)), height=model.coef_)\n",
    "ax.set_xticks(range(len(model.coef_)))\n",
    "ax.set_xticklabels(X_train.columns);"
   ]
  },
  {
   "cell_type": "markdown",
   "metadata": {},
   "source": [
    "## K-Folds Cross-Validation"
   ]
  },
  {
   "cell_type": "markdown",
   "metadata": {},
   "source": [
    "<img src='images/kfold.svg'>"
   ]
  },
  {
   "cell_type": "code",
   "execution_count": null,
   "metadata": {
    "scrolled": true
   },
   "outputs": [],
   "source": [
    "from sklearn.model_selection import KFold\n",
    "\n",
    "kfold = KFold(n_splits=5, shuffle=True)\n",
    "\n",
    "for train, test in kfold.split(X, y):\n",
    "    print('-------Fold-------')\n",
    "    print()\n",
    "    model = LinearRegression()\n",
    "    model.fit(X.values[train], y.values[train])\n",
    "    \n",
    "    y_train_pred = model.predict(X.values[train])\n",
    "    y_test_pred = model.predict(X.values[test])\n",
    "\n",
    "    train_score = r2_score(y.values[train], y_train_pred)\n",
    "    test_score = r2_score(y.values[test], y_test_pred)\n",
    "\n",
    "    train_mse = mean_squared_error(y.values[train], y_train_pred)\n",
    "    test_mse = mean_squared_error(y.values[test], y_test_pred)\n",
    "\n",
    "    print('- Train Set')\n",
    "    print('Train MSE : ', train_mse)\n",
    "    print('Train R2 Score: ', train_score)\n",
    "    print('\\n- Test Set')\n",
    "    print('Test MSE : ', test_mse)\n",
    "    print('Test R2 Score: ', test_score)"
   ]
  },
  {
   "cell_type": "markdown",
   "metadata": {},
   "source": [
    "By default cross_val_score does a Stratified K-Fold Cross Validation."
   ]
  },
  {
   "cell_type": "code",
   "execution_count": null,
   "metadata": {},
   "outputs": [],
   "source": [
    "from sklearn.model_selection import cross_val_score\n",
    "\n",
    "model = LinearRegression()\n",
    "scores = cross_val_score(model, X.values, y.values, cv=5, scoring='neg_mean_squared_error')\n",
    "r2_scores = cross_val_score(model, X.values, y.values, cv=5, scoring='r2')\n",
    "mse = -scores\n",
    "print('MSE: ', mse)\n",
    "print('Mean: ', mse.mean())\n",
    "print('Std: ', mse.std())\n",
    "print('-'*70)\n",
    "print('Scores: ', r2_scores)\n",
    "print('Mean: ', r2_scores.mean())\n",
    "print('Std: ', r2_scores.std())"
   ]
  },
  {
   "cell_type": "code",
   "execution_count": null,
   "metadata": {},
   "outputs": [],
   "source": [
    "from sklearn.model_selection import cross_val_score\n",
    "\n",
    "model = LinearRegression()\n",
    "scores = cross_val_score(model, X.values, y.values, cv=kfold, scoring='neg_mean_squared_error', )\n",
    "r2_scores = cross_val_score(model, X.values, y.values, cv=kfold, scoring='r2')\n",
    "mse = -scores\n",
    "print('MSE: ', mse)\n",
    "print('Mean: ', mse.mean())\n",
    "print('Std: ', mse.std())\n",
    "print('-'*70)\n",
    "print('Scores: ', r2_scores)\n",
    "print('Mean: ', r2_scores.mean())\n",
    "print('Std: ', r2_scores.std())"
   ]
  },
  {
   "cell_type": "markdown",
   "metadata": {},
   "source": [
    "## Stratified K-Fold Cross-Validation"
   ]
  },
  {
   "cell_type": "code",
   "execution_count": null,
   "metadata": {},
   "outputs": [],
   "source": [
    "iris = load_iris()\n",
    "iris_df = pd.DataFrame(iris['data'], columns=iris['feature_names'])\n",
    "iris_df['class'] = iris['target']\n",
    "iris_df.head()"
   ]
  },
  {
   "cell_type": "code",
   "execution_count": null,
   "metadata": {},
   "outputs": [],
   "source": [
    "display(iris_df.shape)\n",
    "iris_df['class'].value_counts() / iris_df.shape[0]"
   ]
  },
  {
   "cell_type": "code",
   "execution_count": null,
   "metadata": {},
   "outputs": [],
   "source": [
    "from sklearn.model_selection import StratifiedKFold\n",
    "\n",
    "skf = StratifiedKFold(n_splits=10)\n",
    "\n",
    "X = iris_df.drop('class', axis=1)\n",
    "y = iris_df['class']\n",
    "\n",
    "for train, test in skf.split(X, y):\n",
    "    print('-'*30 + 'Fold' + '-'*30)\n",
    "    \n",
    "    print('Train Size:', y[train].shape[0])\n",
    "    display(y[train].value_counts() / y[train].shape[0])\n",
    "    \n",
    "    print('Test Size:', y[test].shape[0])\n",
    "    display(y[test].value_counts() / y[test].shape[0])"
   ]
  },
  {
   "cell_type": "code",
   "execution_count": null,
   "metadata": {},
   "outputs": [],
   "source": [
    "clf = LogisticRegression(multi_class='multinomial', solver='newton-cg')\n",
    "\n",
    "scores = cross_val_score(clf, X, y, cv=skf, scoring='accuracy')\n",
    "acc = scores\n",
    "print('Accuracy: ', acc)\n",
    "print('Mean: ', acc.mean())\n",
    "print('Std: ', acc.std())"
   ]
  },
  {
   "cell_type": "markdown",
   "metadata": {},
   "source": [
    "## Leave One Out"
   ]
  },
  {
   "cell_type": "markdown",
   "metadata": {},
   "source": [
    "Note: LeaveOneOut() is equivalent to KFold(n_splits=n) and LeavePOut(p=1) where n is the number of samples."
   ]
  },
  {
   "cell_type": "code",
   "execution_count": null,
   "metadata": {},
   "outputs": [],
   "source": [
    "from sklearn.model_selection import LeaveOneOut\n",
    "\n",
    "X = boston_df.drop('MEDV', axis=1)\n",
    "y = boston_df['MEDV']\n",
    "loo = LeaveOneOut()\n",
    "\n",
    "model = LinearRegression()\n",
    "scores = cross_val_score(model, X.values, y.values, cv=loo, scoring='neg_mean_squared_error', )\n",
    "mse = -scores\n",
    "print('Mean: ', mse.mean())\n",
    "print('Std: ', mse.std())"
   ]
  },
  {
   "cell_type": "markdown",
   "metadata": {},
   "source": [
    "## Shuffle Split"
   ]
  },
  {
   "cell_type": "code",
   "execution_count": null,
   "metadata": {},
   "outputs": [],
   "source": [
    "from sklearn.model_selection import ShuffleSplit\n",
    "\n",
    "ss = ShuffleSplit(n_splits=5)\n",
    "\n",
    "scores = cross_val_score(model, X.values, y.values, cv=ss, scoring='neg_mean_squared_error', )\n",
    "r2_scores = cross_val_score(model, X.values, y.values, cv=ss, scoring='r2')\n",
    "mse = -scores\n",
    "print('MSE: ', mse)\n",
    "print('Mean: ', mse.mean())\n",
    "print('Std: ', mse.std())\n",
    "print('-'*70)\n",
    "print('Scores: ', r2_scores)\n",
    "print('Mean: ', r2_scores.mean())\n",
    "print('Std: ', r2_scores.std())"
   ]
  },
  {
   "cell_type": "markdown",
   "metadata": {},
   "source": [
    "## Grid Search CV"
   ]
  },
  {
   "cell_type": "code",
   "execution_count": null,
   "metadata": {},
   "outputs": [],
   "source": [
    "from sklearn.model_selection import GridSearchCV\n",
    "\n",
    "param_grid = [{'eta0': [0.001, 0.01, 0.1, 0.5],\n",
    "               'fit_intercept': [True, False],\n",
    "               'max_iter': [100, 1000, 10000],\n",
    "               }]\n",
    "sgd_reg = SGDRegressor()\n",
    "grid_search = GridSearchCV(sgd_reg, param_grid, cv=KFold(n_splits=5),\n",
    "                          scoring='neg_mean_squared_error')\n",
    "\n",
    "grid_search.fit(X, y)"
   ]
  },
  {
   "cell_type": "code",
   "execution_count": null,
   "metadata": {},
   "outputs": [],
   "source": [
    "grid_search.best_params_"
   ]
  },
  {
   "cell_type": "code",
   "execution_count": null,
   "metadata": {},
   "outputs": [],
   "source": [
    "grid_search.best_estimator_"
   ]
  },
  {
   "cell_type": "code",
   "execution_count": null,
   "metadata": {},
   "outputs": [],
   "source": []
  }
 ],
 "metadata": {
  "kernelspec": {
   "display_name": "Python 3",
   "language": "python",
   "name": "python3"
  },
  "language_info": {
   "codemirror_mode": {
    "name": "ipython",
    "version": 3
   },
   "file_extension": ".py",
   "mimetype": "text/x-python",
   "name": "python",
   "nbconvert_exporter": "python",
   "pygments_lexer": "ipython3",
   "version": "3.7.3"
  }
 },
 "nbformat": 4,
 "nbformat_minor": 2
}
