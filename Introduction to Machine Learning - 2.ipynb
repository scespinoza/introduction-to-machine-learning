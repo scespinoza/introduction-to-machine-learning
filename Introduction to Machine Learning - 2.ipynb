{
 "cells": [
  {
   "cell_type": "markdown",
   "metadata": {},
   "source": [
    "# Object Oriented Programming"
   ]
  },
  {
   "cell_type": "code",
   "execution_count": 21,
   "metadata": {},
   "outputs": [
    {
     "name": "stdout",
     "output_type": "stream",
     "text": [
      "True\n"
     ]
    }
   ],
   "source": [
    "class Card(object):\n",
    "    \n",
    "    suit_names = ['Clubs', 'Diamonds', 'Hearts', 'Spades']\n",
    "    rank_names = [None, 'Ace', '2', '3', '4', '5', '6', '7',\n",
    "                  '8', '9', '10', 'Jack', 'Queen', 'King']\n",
    "    \n",
    "    def __init__(self, suit=0, rank=1):\n",
    "        \n",
    "        self.suit = suit\n",
    "        self.rank = rank\n",
    "        \n",
    "    def __str__(self):\n",
    "        return '{} of {}'.format(Card.rank_names[self.rank],\n",
    "                                 Card.suit_names[self.suit])\n",
    "    \n",
    "    def __lt__(self, other):\n",
    "        if self.suit < other.suit: return True\n",
    "        if self.rank < other.rank: return True\n",
    "        return False\n",
    "    \n",
    "    def show(self):\n",
    "        print(Card.rank_names[self.rank] + ' of ' + Card.suit_names[self.suit])\n",
    "        \n",
    "    \n",
    "    def __eq__(self, other):\n",
    "        return (self.suit == other.suit) and (self.rank == other.rank)\n",
    "    \n",
    "   \n",
    "card1 = Card(1, 3)\n",
    "card2 = Card(1, 3)\n",
    "\n",
    "print(card1 == card2)"
   ]
  },
  {
   "cell_type": "code",
   "execution_count": 2,
   "metadata": {},
   "outputs": [
    {
     "name": "stdout",
     "output_type": "stream",
     "text": [
      "52 Cards:\n",
      "Ace of Clubs\n",
      "2 of Clubs\n",
      "3 of Clubs\n",
      "4 of Clubs\n",
      "5 of Clubs\n",
      "6 of Clubs\n",
      "7 of Clubs\n",
      "8 of Clubs\n",
      "9 of Clubs\n",
      "10 of Clubs\n",
      "Jack of Clubs\n",
      "Queen of Clubs\n",
      "King of Clubs\n",
      "Ace of Diamonds\n",
      "2 of Diamonds\n",
      "3 of Diamonds\n",
      "4 of Diamonds\n",
      "5 of Diamonds\n",
      "6 of Diamonds\n",
      "7 of Diamonds\n",
      "8 of Diamonds\n",
      "9 of Diamonds\n",
      "10 of Diamonds\n",
      "Jack of Diamonds\n",
      "Queen of Diamonds\n",
      "King of Diamonds\n",
      "Ace of Hearts\n",
      "2 of Hearts\n",
      "3 of Hearts\n",
      "4 of Hearts\n",
      "5 of Hearts\n",
      "6 of Hearts\n",
      "7 of Hearts\n",
      "8 of Hearts\n",
      "9 of Hearts\n",
      "10 of Hearts\n",
      "Jack of Hearts\n",
      "Queen of Hearts\n",
      "King of Hearts\n",
      "Ace of Spades\n",
      "2 of Spades\n",
      "3 of Spades\n",
      "4 of Spades\n",
      "5 of Spades\n",
      "6 of Spades\n",
      "7 of Spades\n",
      "8 of Spades\n",
      "9 of Spades\n",
      "10 of Spades\n",
      "Jack of Spades\n",
      "Queen of Spades\n",
      "King of Spades\n"
     ]
    }
   ],
   "source": [
    "import random\n",
    "\n",
    "class Deck(object):\n",
    "    \n",
    "    def __init__(self):\n",
    "        self.cards = [Card(suit, rank) for suit in range(4)\n",
    "                          for rank in range(1, 14)]\n",
    "        \n",
    "        \"\"\"\n",
    "        self.cards = []\n",
    "        \n",
    "        for suit in range(4):\n",
    "        \n",
    "            for rank in range(1, 14):\n",
    "            \n",
    "                card = Card(suit, rank)\n",
    "                self.cards.append(card)\n",
    "        \"\"\"\n",
    "        \n",
    "    def __str__(self):\n",
    "        res = [str(card) for card in self.cards]\n",
    "        return '{} Cards:\\n'.format(len(self.cards)) + '\\n'.join(res)\n",
    "    \n",
    "    def pop_card(self):\n",
    "        try:\n",
    "            card = self.cards.pop()\n",
    "        except IndexError:\n",
    "            card = None\n",
    "            print('No cards in deck.')\n",
    "        return card\n",
    "    \n",
    "    def add_card(self, card):\n",
    "        self.cards.append(card)\n",
    "        \n",
    "    def shuffle(self):\n",
    "        random.shuffle(self.cards)\n",
    "        \n",
    "    # ------------------------------------------#\n",
    "    def move_cards(self, hand, num):\n",
    "        \n",
    "        for i in range(num):\n",
    "            hand.add_card(self.pop_card())\n",
    "    \n",
    "    def deal_hands(self, n_hands, n_cards):\n",
    "        \n",
    "        hands = []\n",
    "        \n",
    "        for i in range(n_hands):\n",
    "            new_hand = Hand()\n",
    "            self.move_cards(new_hand, n_cards)\n",
    "            hands.append(new_hand)\n",
    "            \n",
    "        return hands\n",
    "    \n",
    "deck = Deck()\n",
    "# deck.shuffle()\n",
    "print(deck)"
   ]
  },
  {
   "cell_type": "code",
   "execution_count": 26,
   "metadata": {},
   "outputs": [],
   "source": [
    "class Hand(Deck):\n",
    "    \n",
    "    def __init__(self, label=\" \"):\n",
    "        self.cards = []\n",
    "        self.label = label\n",
    "    \n",
    "    def __repr__(self):\n",
    "        return '(' + ', '.join([str(card) for card in self.cards]) + ')'\n",
    "            "
   ]
  },
  {
   "cell_type": "code",
   "execution_count": 27,
   "metadata": {},
   "outputs": [
    {
     "name": "stdout",
     "output_type": "stream",
     "text": [
      "No cards in deck.\n",
      "No cards in deck.\n",
      "No cards in deck.\n",
      "No cards in deck.\n",
      "No cards in deck.\n",
      "No cards in deck.\n",
      "No cards in deck.\n",
      "No cards in deck.\n"
     ]
    },
    {
     "data": {
      "text/plain": [
       "[(Queen of Clubs, Jack of Clubs, 10 of Clubs, 9 of Clubs, 8 of Clubs),\n",
       " (7 of Clubs, 6 of Clubs, 5 of Clubs, 4 of Clubs, 3 of Clubs),\n",
       " (2 of Clubs, Ace of Clubs, None, None, None),\n",
       " (None, None, None, None, None)]"
      ]
     },
     "execution_count": 27,
     "metadata": {},
     "output_type": "execute_result"
    }
   ],
   "source": [
    "hands = deck.deal_hands(4, 5)\n",
    "hands "
   ]
  },
  {
   "cell_type": "markdown",
   "metadata": {},
   "source": [
    "---"
   ]
  },
  {
   "cell_type": "code",
   "execution_count": 30,
   "metadata": {},
   "outputs": [
    {
     "data": {
      "text/plain": [
       "'1'"
      ]
     },
     "execution_count": 30,
     "metadata": {},
     "output_type": "execute_result"
    }
   ],
   "source": []
  },
  {
   "cell_type": "code",
   "execution_count": 5,
   "metadata": {},
   "outputs": [
    {
     "name": "stdout",
     "output_type": "stream",
     "text": [
      "Alice <al@kth.se>\n",
      "Lv 24\n",
      "Sthlm\n",
      "\n",
      "Unknown Carol\n"
     ]
    }
   ],
   "source": [
    "class Address:\n",
    "    def __init__(self, street, city):\n",
    "        self.street = str(street)\n",
    "        self.city = str(city)\n",
    "    def show(self):\n",
    "        print(self.street)\n",
    "        print(self.city)\n",
    "\n",
    "class Person:\n",
    "    def __init__(self, name, email):\n",
    "        self.name = str(name)\n",
    "        self.email= str(email)\n",
    "    def show(self):\n",
    "        print(self.name + ' ' + self.email)\n",
    "\n",
    "class Contact(Person, Adress):\n",
    "    def __init__(self, name, email, street, city):\n",
    "        Person.__init__(self, name, email)\n",
    "        Address.__init__(self, street, city)\n",
    "    def show(self):\n",
    "        Person.show(self)\n",
    "        Address.show(self)\n",
    "        print()\n",
    "\n",
    "class Notebook:\n",
    "    people = dict()\n",
    "    def add(self, name, email, street, city):\n",
    "        self.people[name] = Contact(name, email, street, city)\n",
    "    def show(self, name):\n",
    "        if name in self.people:\n",
    "            self.people[name].show()\n",
    "        else:\n",
    "            print('Unknown', name)\n",
    "\n",
    "notes = Notebook()\n",
    "notes.add('Alice', '<al@kth.se>', 'Lv 24', 'Sthlm')\n",
    "notes.add('Bob', '<bb@kth.se>', 'Rtb 35', 'Sthlm')\n",
    "\n",
    "notes.show('Alice')\n",
    "notes.show('Carol')"
   ]
  },
  {
   "cell_type": "markdown",
   "metadata": {},
   "source": [
    "# Encapsulation"
   ]
  },
  {
   "cell_type": "code",
   "execution_count": 36,
   "metadata": {},
   "outputs": [
    {
     "data": {
      "text/plain": [
       "int"
      ]
     },
     "execution_count": 36,
     "metadata": {},
     "output_type": "execute_result"
    }
   ],
   "source": [
    "class Person:\n",
    "    def __init__(self, age):\n",
    "        self.__age = age\n",
    "    def get_age(self):\n",
    "        return self.__age\n",
    "    def set_age(self, age):\n",
    "        \n",
    "        self.__age = int(age)\n",
    "        \n",
    "person = Person(20)\n",
    "person.set_age('100')\n",
    "type(person.get_age())"
   ]
  },
  {
   "cell_type": "markdown",
   "metadata": {},
   "source": [
    "# A Simple Linear Regression Class"
   ]
  },
  {
   "cell_type": "code",
   "execution_count": 41,
   "metadata": {},
   "outputs": [],
   "source": [
    "class SimpleLinearRegression(object):\n",
    "    \n",
    "    def __init__(self, name='Simple Linear Regression'):\n",
    "        self.name = name\n",
    "        self.__a = None\n",
    "        self.__b = None\n",
    "        \n",
    "    def __str__(self):\n",
    "        return name\n",
    "        \n",
    "    def fit(self, x, y):\n",
    "        \n",
    "        n = len(x)\n",
    "        xsum = 0\n",
    "        ysum = 0\n",
    "        xsq = 0\n",
    "        s = 0\n",
    "\n",
    "        for i in range(n):\n",
    "\n",
    "            xsum += x[i]\n",
    "            ysum += y[i]\n",
    "            xsq += x[i] ** 2\n",
    "            s += x[i] * y[i]\n",
    "\n",
    "        xmean = xsum / n\n",
    "        ymean = ysum / n\n",
    "\n",
    "        self.__b = (n * s - xsum * ysum) / (n * xsq - xsum ** 2)\n",
    "        self.__a = ymean - self.__b * xmean\n",
    "    \n",
    "    def predict(self, x):\n",
    "        \n",
    "        y_pred = []\n",
    "        \n",
    "        for xi in x:\n",
    "            y_predi = self.__a + self.__b * xi\n",
    "            y_pred.append(y_predi)\n",
    "        return y_pred\n",
    "    \n",
    "    def coefficients(self):\n",
    "        return self.__a, self.__b"
   ]
  },
  {
   "cell_type": "code",
   "execution_count": 42,
   "metadata": {},
   "outputs": [
    {
     "data": {
      "text/plain": [
       "[0.8749999999999998,\n",
       " 1.6785714285714284,\n",
       " 2.4821428571428568,\n",
       " 3.2857142857142856,\n",
       " 4.089285714285714,\n",
       " 4.892857142857142,\n",
       " 5.696428571428571]"
      ]
     },
     "execution_count": 42,
     "metadata": {},
     "output_type": "execute_result"
    }
   ],
   "source": [
    "x = [1, 2, 3, 4, 5, 6, 7]\n",
    "y = [0.5, 2.5, 2, 4, 2.5, 6, 5.5]\n",
    "\n",
    "model = SimpleLinearRegression()\n",
    "model.fit(x, y)\n",
    "model.predict(x)"
   ]
  },
  {
   "cell_type": "code",
   "execution_count": 43,
   "metadata": {},
   "outputs": [
    {
     "name": "stdout",
     "output_type": "stream",
     "text": [
      "(0.07142857142857117, 0.8035714285714286)\n"
     ]
    }
   ],
   "source": [
    "print(model.coefficients())"
   ]
  },
  {
   "cell_type": "markdown",
   "metadata": {},
   "source": [
    "# Multiple Linear Regression - Scikit-Learn API"
   ]
  },
  {
   "cell_type": "markdown",
   "metadata": {},
   "source": [
    "$$(X^{T}X)^{-1}X^{T}y$$"
   ]
  },
  {
   "cell_type": "code",
   "execution_count": 13,
   "metadata": {},
   "outputs": [],
   "source": [
    "import numpy as np\n",
    "\n",
    "class LinearRegression(object):\n",
    "\n",
    "    def __init__(self, fit_intercept=True, name='Linear Regression Model'):\n",
    "        \n",
    "        self.fit_intercept = fit_intercept\n",
    "        self.name = name\n",
    "        self.__estimated_coefficients = None\n",
    "        \n",
    "    def fit(self, X, y):\n",
    "        \n",
    "        m, n = X.shape\n",
    "        if self.fit_intercept:\n",
    "            X_aug = np.concatenate([np.ones((m, 1)), X], axis=1)\n",
    "        self.__estimated_coefficients = np.linalg.inv(X_aug.T @ X_aug) @ X_aug.T @ y\n",
    "    \n",
    "    def predict(self, X):\n",
    "        \n",
    "        m, n = X.shape\n",
    "        \n",
    "        if self.fit_intercept:\n",
    "            X_aug = np.concatenate([np.ones((m, 1)), X], axis=1)\n",
    "        return X_aug @ self.__estimated_coefficients\n",
    "    \n",
    "    def get_coefficients(self):\n",
    "        return self.__estimated_coefficients"
   ]
  },
  {
   "cell_type": "markdown",
   "metadata": {},
   "source": [
    "# Scikit-learn"
   ]
  },
  {
   "cell_type": "code",
   "execution_count": 12,
   "metadata": {},
   "outputs": [],
   "source": [
    "from sklearn.linear_model import LinearRegression\n",
    "\n",
    "model = LinearRegression()"
   ]
  }
 ],
 "metadata": {
  "kernelspec": {
   "display_name": "Python 3",
   "language": "python",
   "name": "python3"
  },
  "language_info": {
   "codemirror_mode": {
    "name": "ipython",
    "version": 3
   },
   "file_extension": ".py",
   "mimetype": "text/x-python",
   "name": "python",
   "nbconvert_exporter": "python",
   "pygments_lexer": "ipython3",
   "version": "3.7.3"
  }
 },
 "nbformat": 4,
 "nbformat_minor": 2
}
