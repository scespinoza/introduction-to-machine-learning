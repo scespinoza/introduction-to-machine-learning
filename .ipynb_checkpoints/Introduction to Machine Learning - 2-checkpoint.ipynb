{
 "cells": [
  {
   "cell_type": "markdown",
   "metadata": {},
   "source": [
    "# Object Oriented Programming"
   ]
  },
  {
   "cell_type": "code",
   "execution_count": 1,
   "metadata": {},
   "outputs": [],
   "source": []
  },
  {
   "cell_type": "markdown",
   "metadata": {},
   "source": [
    "# Simple Linear Regression Class"
   ]
  },
  {
   "cell_type": "code",
   "execution_count": null,
   "metadata": {},
   "outputs": [],
   "source": [
    "class SimpleLinearRegression(object):\n",
    "    \n",
    "    def __init__(self, name='Simple Linear Regression'):\n",
    "        self.name = name\n",
    "        self.a = None\n",
    "        self.b = None\n",
    "        \n",
    "    def __str__(self):\n",
    "        return name\n",
    "        \n",
    "    def fit(self, x, y):\n",
    "        \n",
    "        n = len(x)\n",
    "        xsum = 0\n",
    "        ysum = 0\n",
    "        xsq = 0\n",
    "        s = 0\n",
    "\n",
    "        for i in range(n):\n",
    "\n",
    "            xsum += x[i]\n",
    "            ysum += y[i]\n",
    "            xsq += x[i] ** 2\n",
    "            s += x[i] * y[i]\n",
    "\n",
    "        xmean = xsum / n\n",
    "        ymean = ysum / n\n",
    "\n",
    "        self.b = (n * s - xsum * ysum) / (n * xsq - xsum ** 2)\n",
    "        self.a = ymean - b * xmean\n",
    "    \n",
    "    def predict(self, x):\n",
    "        \n",
    "        y_pred = []\n",
    "        \n",
    "        for xi in x:\n",
    "            y_predi = self.a + self.b * xi\n",
    "            y_pred.append(y_predi)\n",
    "        return y_pred"
   ]
  },
  {
   "cell_type": "markdown",
   "metadata": {},
   "source": [
    "# Multiple Linear Regression - Scikit-Learn API"
   ]
  },
  {
   "cell_type": "markdown",
   "metadata": {},
   "source": [
    "$$(X^{T}X)^{-1}X^{T}y$$"
   ]
  },
  {
   "cell_type": "code",
   "execution_count": 19,
   "metadata": {},
   "outputs": [],
   "source": [
    "import numpy as np\n",
    "\n",
    "class LinearRegression(object):\n",
    "\n",
    "    def __init__(self, fit_intercept=True, name='Linear Regression Model'):\n",
    "        \n",
    "        self.fit_intercept = fit_intercept\n",
    "        self.name = name\n",
    "        self.estimated_coefficients = None\n",
    "        \n",
    "    def fit(self, X, y):\n",
    "        \n",
    "        m, n = X.shape\n",
    "        if self.fit_intercept:\n",
    "            X_aug = np.concatenate([np.ones((m, 1)), X], axis=1)\n",
    "        self.estimated_coefficients = np.linalg.inv(X_aug.T @ X_aug) @ X_aug.T @ y\n",
    "    \n",
    "    def predict(self, X):\n",
    "        \n",
    "        m, n = X.shape\n",
    "        \n",
    "        if self.fit_intercept:\n",
    "            X_aug = np.concatenate([np.ones((m, 1)), X], axis=1)\n",
    "        return X_aug @ self.estimated_coefficients"
   ]
  },
  {
   "cell_type": "code",
   "execution_count": 20,
   "metadata": {},
   "outputs": [
    {
     "name": "stdout",
     "output_type": "stream",
     "text": [
      "[[0.07142857]\n",
      " [0.80357143]]\n"
     ]
    }
   ],
   "source": [
    "lr = LinearRegression()\n",
    "X = np.arange(1, 8).reshape(7, 1)\n",
    "y = np.array([0.5, 2.5, 2, 4, 2.5, 6, 5.5]).reshape(7, 1)\n",
    "lr.fit(X, y)\n",
    "print(lr.estimated_coefficients)"
   ]
  },
  {
   "cell_type": "code",
   "execution_count": 21,
   "metadata": {},
   "outputs": [
    {
     "data": {
      "text/plain": [
       "array([[0.875     ],\n",
       "       [1.67857143],\n",
       "       [2.48214286],\n",
       "       [3.28571429],\n",
       "       [4.08928571],\n",
       "       [4.89285714],\n",
       "       [5.69642857]])"
      ]
     },
     "execution_count": 21,
     "metadata": {},
     "output_type": "execute_result"
    }
   ],
   "source": [
    "lr.predict(X)"
   ]
  },
  {
   "cell_type": "code",
   "execution_count": 26,
   "metadata": {},
   "outputs": [
    {
     "data": {
      "text/plain": [
       "[<matplotlib.lines.Line2D at 0x1767c239748>]"
      ]
     },
     "execution_count": 26,
     "metadata": {},
     "output_type": "execute_result"
    },
    {
     "data": {
      "image/png": "[encoded data removed]",
      "text/plain": [
       "<Figure size 432x288 with 1 Axes>"
      ]
     },
     "metadata": {
      "needs_background": "light"
     },
     "output_type": "display_data"
    }
   ],
   "source": [
    "import matplotlib.pyplot as plt\n",
    "plt.scatter(X.ravel(), y.ravel())\n",
    "plt.plot(X.ravel(), lr.predict(X).ravel())"
   ]
  },
  {
   "cell_type": "code",
   "execution_count": null,
   "metadata": {},
   "outputs": [],
   "source": []
  }
 ],
 "metadata": {
  "kernelspec": {
   "display_name": "Python 3",
   "language": "python",
   "name": "python3"
  },
  "language_info": {
   "codemirror_mode": {
    "name": "ipython",
    "version": 3
   },
   "file_extension": ".py",
   "mimetype": "text/x-python",
   "name": "python",
   "nbconvert_exporter": "python",
   "pygments_lexer": "ipython3",
   "version": "3.7.3"
  }
 },
 "nbformat": 4,
 "nbformat_minor": 2
}
